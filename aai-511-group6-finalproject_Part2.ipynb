{
 "cells": [
  {
   "cell_type": "markdown",
   "id": "d0e25b42",
   "metadata": {},
   "source": [
    "# Music Genre and Composer Classification Using Deep Learning\n",
    "\n",
    "## Classical Music Time Series Model Comparison\n",
    "## AAI-511 Team 6 Final Project\n",
    "## Part II : Modeling\n",
    "\n",
    "Team 6:  Philip Felizarta, Sarah Durrani, Geoffrey Fadera\n",
    "\n",
    "University of San Diego, Applied Artificial Intelligence\n",
    "\n",
    "Date:  August 12, 2024\n",
    "\n",
    "GitHub Repository: https://github.com/PhilipFelizarta/Classical-Music-Time-Series-Model-Comparison?query=PhilipFelizarta"
   ]
  },
  {
   "cell_type": "code",
   "execution_count": 3,
   "id": "afe029f7",
   "metadata": {},
   "outputs": [],
   "source": [
    "import os\n",
    "import pretty_midi\n",
    "from sklearn.model_selection import train_test_split\n",
    "from sklearn.svm import SVC\n",
    "from sklearn.metrics import accuracy_score\n",
    "import numpy as np\n",
    "import zipfile\n",
    "import pandas as pd\n",
    "import warnings\n",
    "from sklearn.preprocessing import LabelBinarizer"
   ]
  },
  {
   "cell_type": "markdown",
   "id": "0fa99759",
   "metadata": {},
   "source": [
    "## Re-Load (X, y) Data From Each Option in Part I"
   ]
  },
  {
   "cell_type": "code",
   "execution_count": 4,
   "id": "05a3a732",
   "metadata": {},
   "outputs": [],
   "source": [
    "\n",
    "def reloadMidiData(directory):\n",
    "    \n",
    "    midiData = []\n",
    "    i = 0\n",
    "    \n",
    "    for dirpath, dirs, files in os.walk(directory):  \n",
    "        for filename in files: \n",
    "            \n",
    "            filename_ = 'X_'+str(i)+'.npy'\n",
    "            filePath_ = os.path.join(directory,filename_) \n",
    "            \n",
    "            #if(i <10) :\n",
    "                #print(\"i: \", i)\n",
    "                #print(filePath_)\n",
    "            #print(filePath_)\n",
    "        \n",
    "            if (os.path.exists(filePath_)): \n",
    "                temp = np.load(filePath_)\n",
    "                midiData.append(temp)\n",
    "            else :\n",
    "                print(\"Error Reloading Data, Check Part1/Part2 Compatibility\")\n",
    "                \n",
    "            \n",
    "            i = i+1\n",
    "    return np.array(midiData)\n"
   ]
  },
  {
   "cell_type": "code",
   "execution_count": 5,
   "id": "4d1e7d53",
   "metadata": {},
   "outputs": [],
   "source": [
    "X_train_OP1 = []\n",
    "X_train_OP1 = reloadMidiData('./OP1/Train')\n",
    "\n",
    "X_val_OP1 = []\n",
    "X_val_OP1 = reloadMidiData('./OP1/Val')\n",
    "\n",
    "X_test_OP1 = []\n",
    "X_test_OP1 = reloadMidiData('./OP1/Test')"
   ]
  },
  {
   "cell_type": "code",
   "execution_count": 6,
   "id": "c73101f5",
   "metadata": {},
   "outputs": [],
   "source": [
    "y_train = np.load('./y_train.npy')\n",
    "y_val = np.load('./y_val.npy')\n",
    "y_test = np.load('./y_test.npy')"
   ]
  },
  {
   "cell_type": "code",
   "execution_count": 7,
   "id": "124fa60c",
   "metadata": {},
   "outputs": [
    {
     "data": {
      "text/plain": [
       "(1308, 47745, 5)"
      ]
     },
     "execution_count": 7,
     "metadata": {},
     "output_type": "execute_result"
    }
   ],
   "source": [
    "X_train_OP1.shape"
   ]
  },
  {
   "cell_type": "code",
   "execution_count": 8,
   "id": "3ead71bc",
   "metadata": {},
   "outputs": [
    {
     "data": {
      "text/plain": [
       "array([[ 1.875,  2.5  , 72.   , 96.   ,  0.   ],\n",
       "       [ 2.5  ,  3.125, 69.   , 96.   ,  0.   ],\n",
       "       [ 3.125,  3.75 , 72.   , 96.   ,  0.   ],\n",
       "       [ 3.75 ,  4.375, 74.   , 96.   ,  0.   ],\n",
       "       [ 4.375,  5.   , 72.   , 96.   ,  0.   ]])"
      ]
     },
     "execution_count": 8,
     "metadata": {},
     "output_type": "execute_result"
    }
   ],
   "source": [
    "X_train_OP1[0][0:5]"
   ]
  },
  {
   "cell_type": "code",
   "execution_count": 9,
   "id": "eea1f0b1",
   "metadata": {},
   "outputs": [
    {
     "data": {
      "text/plain": [
       "(163, 47745, 5)"
      ]
     },
     "execution_count": 9,
     "metadata": {},
     "output_type": "execute_result"
    }
   ],
   "source": [
    "X_val_OP1.shape"
   ]
  },
  {
   "cell_type": "code",
   "execution_count": 10,
   "id": "0e4577a1",
   "metadata": {},
   "outputs": [
    {
     "data": {
      "text/plain": [
       "array([[0.00000000e+00, 6.81818750e-02, 6.90000000e+01, 6.40000000e+01,\n",
       "        0.00000000e+00],\n",
       "       [6.81818750e-02, 1.36363750e-01, 6.80000000e+01, 5.60000000e+01,\n",
       "        0.00000000e+00],\n",
       "       [1.36363750e-01, 5.22727708e-01, 6.90000000e+01, 6.40000000e+01,\n",
       "        0.00000000e+00],\n",
       "       [5.45455000e-01, 8.18182500e-01, 6.90000000e+01, 6.40000000e+01,\n",
       "        0.00000000e+00],\n",
       "       [8.18182500e-01, 8.86364375e-01, 6.90000000e+01, 6.40000000e+01,\n",
       "        0.00000000e+00]])"
      ]
     },
     "execution_count": 10,
     "metadata": {},
     "output_type": "execute_result"
    }
   ],
   "source": [
    "X_val_OP1[162][0:5]"
   ]
  },
  {
   "cell_type": "code",
   "execution_count": 11,
   "id": "76bfb6c3",
   "metadata": {},
   "outputs": [
    {
     "data": {
      "text/plain": [
       "(1308, 4)"
      ]
     },
     "execution_count": 11,
     "metadata": {},
     "output_type": "execute_result"
    }
   ],
   "source": [
    "y_train.shape"
   ]
  },
  {
   "cell_type": "markdown",
   "id": "b83a888b",
   "metadata": {},
   "source": [
    "## Step 5 Model Training"
   ]
  }
 ],
 "metadata": {
  "kernelspec": {
   "display_name": "Python 3 (ipykernel)",
   "language": "python",
   "name": "python3"
  },
  "language_info": {
   "codemirror_mode": {
    "name": "ipython",
    "version": 3
   },
   "file_extension": ".py",
   "mimetype": "text/x-python",
   "name": "python",
   "nbconvert_exporter": "python",
   "pygments_lexer": "ipython3",
   "version": "3.11.5"
  }
 },
 "nbformat": 4,
 "nbformat_minor": 5
}
