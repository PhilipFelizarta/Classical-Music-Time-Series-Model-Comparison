{
 "cells": [
  {
   "cell_type": "markdown",
   "id": "29cc92cf",
   "metadata": {},
   "source": [
    "# Music Genre and Composer Classification Using Deep Learning\n",
    "\n",
    "## Classical Music Time Series Model Comparison\n",
    "## AAI-511 Team 6 Final Project\n",
    "## Part I : Data Preprocessing & Feature Extraction\n",
    "\n",
    "Team 6:  Philip Felizarta, Sarah Durrani, Geoffrey Fadera\n",
    "\n",
    "University of San Diego, Applied Artificial Intelligence\n",
    "\n",
    "Date:  August 12, 2024\n",
    "\n",
    "GitHub Repository: https://github.com/PhilipFelizarta/Classical-Music-Time-Series-Model-Comparison?query=PhilipFelizarta"
   ]
  },
  {
   "cell_type": "code",
   "execution_count": 1,
   "id": "afe029f7",
   "metadata": {},
   "outputs": [],
   "source": [
    "import os\n",
    "import pretty_midi\n",
    "from sklearn.model_selection import train_test_split\n",
    "from sklearn.svm import SVC\n",
    "from sklearn.metrics import accuracy_score\n",
    "import numpy as np\n",
    "import zipfile\n",
    "import pandas as pd\n",
    "import warnings\n",
    "from sklearn.preprocessing import LabelBinarizer\n",
    "import warnings\n",
    "from visual_midi import Plotter, Preset\n",
    "import matplotlib.pyplot as plt\n",
    "\n",
    "RANDOM_STATE = 0\n",
    "TRAIN_SIZE = 0.80\n",
    "VAL_TEST_SPLIT = 0.5"
   ]
  },
  {
   "cell_type": "markdown",
   "id": "3a665985",
   "metadata": {},
   "source": [
    "## Supporting Functions"
   ]
  },
  {
   "cell_type": "code",
   "execution_count": 2,
   "id": "37728626",
   "metadata": {},
   "outputs": [],
   "source": [
    "# Unzip file and all zipped files within all its subdirectory levels\n",
    "# By visual inspection, even after unzipping the parent directory 'archive', composers' subdirectories still contain Zip files.\n",
    "# The following function unzips a Zip file, and recursively unzips all Zip files within it.\n",
    "\n",
    "def unzipFileTree(directory, file):\n",
    "    \n",
    "    if file.endswith('.zip'):\n",
    "        zip_filepath = os.path.join(directory, file)\n",
    "        zip_filename = os.path.splitext(os.path.basename(zip_filepath))[0]\n",
    "        zip_targetDir = os.path.join(directory, zip_filename)\n",
    "        \n",
    "        try:\n",
    "            with zipfile.ZipFile(zip_filepath, 'r') as zip_ref:\n",
    "                zip_ref.extractall(zip_targetDir)\n",
    "                #print(f\"\\tUnzipped File: {zip_filepath}\")\n",
    "                #print(f\"\\tUnzipped to folder: {zip_targetDir}\")\n",
    "        except zipfile.BadZipFile:\n",
    "            print(f\"Error: {zip_filepath} is a bad zip file\")\n",
    "    else:\n",
    "        return\n",
    "\n",
    "    for root, dirs, files in os.walk(zip_targetDir):\n",
    "        for file in files:\n",
    "            unzipFileTree(root, file)\n",
    "\n",
    "\n",
    "# +++++++++++++++++++++++++++++++++++++++++++++++++++++++++++\n",
    "# Read midi files under each 'composer' folder\n",
    "# Input: root directory, composer string array\n",
    "# Return: [List of imported prettyMidi files, List of corresponding composer]\n",
    "\n",
    "def read_Midis_Composer (directory, composers = []):\n",
    "    \n",
    "    midis_data = []\n",
    "    composer_data = []\n",
    "\n",
    "    for composer in composers:\n",
    "        composerDir = os.path.join(directory, composer)\n",
    "        \n",
    "        for dirpath, dirs, files in os.walk(composerDir):  \n",
    "            for filename in files: \n",
    "                fname = os.path.join(dirpath,filename) \n",
    "                \n",
    "                try:\n",
    "                   # with warnings.catch_warnings():\n",
    "                   # warnings.simplefilter(\"error\")\n",
    "                    pm = pretty_midi.PrettyMIDI(fname)\n",
    "\n",
    "                except:\n",
    "                    if (fname.endswith('.mid') or fname.endswith('.MID')): \n",
    "                        print(f\"Error loading MIDI file (Skipping):\", fname)\n",
    "                    else : \n",
    "                        print(f\"Warning: Non-midi file encountered (Skipping):\", fname)\n",
    "                    continue\n",
    "                \n",
    "                midis_data = np.append(midis_data, pm)\n",
    "                composer_data = np.append(composer_data, composer)\n",
    "    \n",
    "    return midis_data, composer_data\n",
    "\n",
    "# +++++++++++++++++++++++++++++++++++++++++++++++++++++++++++\n",
    "# Split Transformed data into Train, Validation, and Test Sets\n",
    "def splitTransformed(transformedData = [], \n",
    "                       labelsData = [],\n",
    "                       random_state = RANDOM_STATE,\n",
    "                       train_size = TRAIN_SIZE,\n",
    "                       val_test_split = VAL_TEST_SPLIT):\n",
    "\n",
    "    X_train, X_valtest, y_train, y_valtest = train_test_split(transformedData, labelsData, \n",
    "                                                          test_size= (1 - TRAIN_SIZE), \n",
    "                                                          random_state=RANDOM_STATE)\n",
    "\n",
    "    X_val, X_test, y_val, y_test = train_test_split(X_valtest, y_valtest, \n",
    "                                                test_size=VAL_TEST_SPLIT, \n",
    "                                                random_state=RANDOM_STATE)\n",
    "\n",
    "    return X_train, X_val, X_test, y_train, y_val, y_test\n",
    "\n",
    "\n",
    "# +++++++++++++++++++++++++++++++++++++++++++++++++++++++++++\n",
    "# define a function that converts a pretty_midi array into a 'bag of notes'\n",
    "# Dimensionality is reduced as Time and Instrument components are now added as features for each note.\n",
    "\n",
    "def convertMidisList_OP1 (midisDataList = []):\n",
    "    \n",
    "    resultMidisList = []\n",
    "    for midisData in midisDataList:\n",
    "        \n",
    "        flatMidi = []\n",
    "        for instrument in midisData.instruments:\n",
    "            for note in instrument.notes:\n",
    "                start = note.start\n",
    "                end = note.end  \n",
    "                pitch = note.pitch\n",
    "                velocity = note.velocity\n",
    "\n",
    "                combinedEntry = np.array([start, end, pitch, velocity, instrument.program])\n",
    "                flatMidi.append(combinedEntry)\n",
    "\n",
    "        resultMidisList.append(np.array(flatMidi))\n",
    "\n",
    "    return resultMidisList\n",
    "\n",
    "# +++++++++++++++++++++++++++++++++++++++++++++++++++++++++++\n",
    "# parses flattened pretty_midi data (OPTION 1) and\n",
    "# returns list of notes simultaneously being played at input timestamp\n",
    "\n",
    "def sample_FlatMidi(midiFlat=[], timestamp=0):\n",
    "    \n",
    "    startTime_col = 0\n",
    "    endTime_col = 1\n",
    "\n",
    "    rows = (midiFlat[:, startTime_col] < timestamp) & (midiFlat[:, endTime_col] >= timestamp)\n",
    "    selected_rows = midiFlat[rows]\n",
    "\n",
    "    return selected_rows   \n",
    "\n",
    "# +++++++++++++++++++++++++++++++++++++++++++++++++++++++++++\n",
    "# Converts a flattened midi file (from OPTION 1) into a time-sequence of 2-D vectors\n",
    "# each vector is of shape (Max Number of Notes Sampled in this midi at any time instance) X 3.\n",
    "\n",
    "def convertFlatMidi_OP2(midiFlatOP1=[], Fs = 10):\n",
    "    \n",
    "    start = 0\n",
    "    stop = np.max(midiFlatOP1[:,1])\n",
    "    step = 1/Fs\n",
    "    timeline = np.arange(start, stop + step, step)\n",
    "    resultMidi = []\n",
    "    maxNotesOneSample = 0\n",
    "    \n",
    "    # sample the flattened Midi at a given timestamp. save notes played simultaneously at that time instance.\n",
    "    # remove start and end time attributes.\n",
    "    for timestamp in timeline:\n",
    "        sampledNotes = sample_FlatMidi(midiFlatOP1, timestamp)\n",
    "        \n",
    "        if len(sampledNotes) > maxNotesOneSample:\n",
    "            maxNotesOneSample = len(sampledNotes)\n",
    "        \n",
    "        resultMidi.append(sampledNotes[:,2:5])\n",
    "    \n",
    "    # pad samples so final array is of size (Max Num of simultaneous Notes played at one time instance) X 3\n",
    "    for i in range(0, len(resultMidi)):\n",
    "        sample = resultMidi[i]\n",
    "        samplePadded = np.pad(sample,((0, maxNotesOneSample - sample.shape[0]), (0, 0)), mode = 'constant')\n",
    "        resultMidi[i] = samplePadded\n",
    "    \n",
    "        \n",
    "    return np.array(resultMidi), maxNotesOneSample\n",
    "\n",
    "# +++++++++++++++++++++++++++++++++++++++++++++++++++++++++++\n",
    "# Converts flattened Midi List from OP1 into time-series representation\n",
    "# Each midi from the output of OP1 is sampled given Fs (number of samples per second)\n",
    "# \n",
    "\n",
    "def convertFlatMidisList_OP2 (midisFlatList_OP1=[], Fs = 10):\n",
    "    resultMidisList = []\n",
    "    resultMidisListPadded = []\n",
    "    maxNotesPerSampleEntireList = 0\n",
    "    \n",
    "    for index, flatMidi in enumerate(midisFlatList_OP1):\n",
    "        \n",
    "        # convert each flattened Midi (from OP1) into (?,3) x time vector.\n",
    "        flatMidi_OP2, maxNotesPerSampleThisMidi = convertFlatMidi_OP2(flatMidi, Fs)\n",
    "        \n",
    "        # store max number of notes simultaneously playing at any time instance during sampling.\n",
    "        if (maxNotesPerSampleThisMidi > maxNotesPerSampleEntireList ):\n",
    "            maxNotesPerSampleEntireList = maxNotesPerSampleThisMidi\n",
    "            print(\"Num simultaneous notes now at: \", maxNotesPerSampleEntireList)\n",
    "            print(\"Encountered at input no: \", index)\n",
    "        \n",
    "        # append converted midi to final list\n",
    "        resultMidisList.append(flatMidi_OP2)\n",
    "     \n",
    "    # At this point, return List is 4-D:\n",
    "    # (NUMBER OF INPUT MIDIs) X (? NUMBER OF TIME SAMPLES) X (? Number of Sampled Notes per Midi) X 3 (Note)\n",
    "    # pad third dimension with zeros to match max number of sampled notes\n",
    "    \n",
    "    for i in range(0, len(resultMidisList)):\n",
    "        \n",
    "        # (time samples) x (max number of simultaneous notes for this midi) x 3\n",
    "        midi = resultMidisList[i]\n",
    "        \n",
    "        # pad zeros on the second dimension to match max number of simultaneous notes for entire list\n",
    "        midiPadded = np.pad(midi,((0,0), (0, maxNotesPerSampleEntireList - midi.shape[1]), (0, 0)), mode = 'constant')\n",
    "\n",
    "        resultMidisListPadded.append(np.array(midiPadded))\n",
    "\n",
    "    #return resultMidisList resultMidisListPadded, maxNotesPerSampleEntireList\n",
    "    return resultMidisListPadded, maxNotesPerSampleEntireList"
   ]
  },
  {
   "cell_type": "markdown",
   "id": "b63fc612",
   "metadata": {},
   "source": [
    "## Step 1. Data Import, Clean-Up, Exploratory Analysis, Pre-processing"
   ]
  },
  {
   "cell_type": "code",
   "execution_count": 3,
   "id": "a8f100c8",
   "metadata": {},
   "outputs": [],
   "source": [
    "# (1.1) Place 'archive.zip' in the same folder as this ipynb file and unzip using unzipFileTree () function.\n",
    "unzipFileTree('./', 'archive.zip')"
   ]
  },
  {
   "cell_type": "code",
   "execution_count": 4,
   "id": "8e120a6b",
   "metadata": {},
   "outputs": [
    {
     "name": "stderr",
     "output_type": "stream",
     "text": [
      "/Users/geoffreyfadera/anaconda3/lib/python3.11/site-packages/pretty_midi/pretty_midi.py:100: RuntimeWarning: Tempo, Key or Time signature change events found on non-zero tracks.  This is not a valid type 0 or type 1 MIDI file.  Tempo, Key or Time Signature may be wrong.\n",
      "  warnings.warn(\n"
     ]
    },
    {
     "name": "stdout",
     "output_type": "stream",
     "text": [
      "Warning: Non-midi file encountered (Skipping): ./archive/midiclassics/Bach/.DS_Store\n",
      "Warning: Non-midi file encountered (Skipping): ./archive/midiclassics/Bach/Bwv001- 400 Chorales/readme\n",
      "Warning: Non-midi file encountered (Skipping): ./archive/midiclassics/Beethoven/Complete Tempest Sonata.zip\n",
      "Warning: Non-midi file encountered (Skipping): ./archive/midiclassics/Beethoven/Complete Sonata in A flat major Op.110.zip\n",
      "Warning: Non-midi file encountered (Skipping): ./archive/midiclassics/Beethoven/Sonata No.1 in D.zip\n",
      "Warning: Non-midi file encountered (Skipping): ./archive/midiclassics/Beethoven/Piano Sonata No.18.zip\n",
      "Warning: Non-midi file encountered (Skipping): ./archive/midiclassics/Beethoven/Piano and Cello Sonata No.2 Op 5.zip\n",
      "Warning: Non-midi file encountered (Skipping): ./archive/midiclassics/Beethoven/Piano Sonata No.23.zip\n",
      "Error loading MIDI file (Skipping): ./archive/midiclassics/Beethoven/Anhang 14-3.mid\n",
      "Error loading MIDI file (Skipping): ./archive/midiclassics/Mozart/Piano Sonatas/Nueva carpeta/K281 Piano Sonata n03 3mov.mid\n"
     ]
    }
   ],
   "source": [
    "# (1.2) Define root directory of midi files to be processed\n",
    "# Define composers to analyze\n",
    "# Import midi files into a list, and generate a list of corresponding composer labels using the read_Midis_Composer() function\n",
    "\n",
    "root = \"./archive/midiclassics\"\n",
    "composers = ['Bach', 'Beethoven', 'Chopin', 'Mozart']\n",
    "\n",
    "midisData, composersData = read_Midis_Composer(root, composers)"
   ]
  },
  {
   "cell_type": "code",
   "execution_count": 5,
   "id": "d34d2e12",
   "metadata": {},
   "outputs": [
    {
     "name": "stdout",
     "output_type": "stream",
     "text": [
      "midisData shape:  (1635,)\n",
      "composersData shape:  (1635,)\n"
     ]
    },
    {
     "data": {
      "text/plain": [
       "Bach         1024\n",
       "Mozart        256\n",
       "Beethoven     219\n",
       "Chopin        136\n",
       "Name: count, dtype: int64"
      ]
     },
     "execution_count": 5,
     "metadata": {},
     "output_type": "execute_result"
    }
   ],
   "source": [
    "# (1.3) Observe shape of data, and composer distribution\n",
    "\n",
    "print(\"midisData shape: \", midisData.shape)\n",
    "print(\"composersData shape: \", composersData.shape)\n",
    "pd.DataFrame(composersData).value_counts()"
   ]
  },
  {
   "cell_type": "markdown",
   "id": "d58a40df",
   "metadata": {},
   "source": [
    "**NOTE:** There is clear class imbalance with the 'Bach' label having at least 4 times as many samples as the rest of the classes."
   ]
  },
  {
   "cell_type": "markdown",
   "id": "5966d8fd",
   "metadata": {},
   "source": [
    "### CHECK LATER: MAYBE NOT NEEDED "
   ]
  },
  {
   "cell_type": "code",
   "execution_count": 6,
   "id": "5b3ac8fd",
   "metadata": {},
   "outputs": [
    {
     "name": "stdout",
     "output_type": "stream",
     "text": [
      "Len: 1635\n"
     ]
    },
    {
     "data": {
      "text/plain": [
       "Text(0, 0.5, 'Count')"
      ]
     },
     "execution_count": 6,
     "metadata": {},
     "output_type": "execute_result"
    },
    {
     "data": {
      "image/png": "[encoded data removed]",
      "text/plain": [
       "<Figure size 640x480 with 1 Axes>"
      ]
     },
     "metadata": {},
     "output_type": "display_data"
    }
   ],
   "source": [
    "# Maybe Add to Exploratory Data Analysis. But maybe not important\n",
    "# \n",
    "midisDataFlat = convertMidisList_OP1(midisData)   \n",
    "\n",
    "print(\"Len:\", len(midisDataFlat))\n",
    "\n",
    "inst = np.zeros(128)\n",
    "i=0\n",
    "for midi in midisDataFlat:\n",
    "    #if (i==3): break\n",
    "    #print(\"i: \", i)\n",
    "    temp = np.array(midi)\n",
    "    #print(\"temp shape: \", temp.shape)\n",
    "    program_ids = np.unique(temp[:,4]).astype(int)\n",
    "    #print(\"program_ids: \", program_ids)\n",
    "    \n",
    "    inst[program_ids] += 1 \n",
    "    \n",
    "    #print(\"INST: \", inst[0:60])\n",
    "    i=i+1\n",
    "    \n",
    "x = np.arange(len(inst))\n",
    "plt.bar(x, inst)\n",
    "plt.xlabel('Program No (Instrument)')\n",
    "plt.ylabel('Count')"
   ]
  },
  {
   "cell_type": "code",
   "execution_count": 7,
   "id": "ff3ac3f4",
   "metadata": {},
   "outputs": [
    {
     "data": {
      "text/plain": [
       "(1635, 4)"
      ]
     },
     "execution_count": 7,
     "metadata": {},
     "output_type": "execute_result"
    }
   ],
   "source": [
    "# (1.4) Convert Labels (composersData) to Binary Representations\n",
    "\n",
    "label_enc=[]\n",
    "label_enc = LabelBinarizer()\n",
    "composersDataBin = label_enc.fit_transform(composersData)\n",
    "composersDataBin.shape"
   ]
  },
  {
   "cell_type": "markdown",
   "id": "b0879cbb",
   "metadata": {},
   "source": [
    "## Step 2. Data Conversion to Suitable Formats"
   ]
  },
  {
   "cell_type": "markdown",
   "id": "5e0e881e",
   "metadata": {},
   "source": [
    "Various options are explored in converting the midi data to suitable formats for deep learning models.\n",
    "\n",
    "**Option 1:** Bag of Notes <br>\n",
    "**Option 2:** Time x Notes<br>\n",
    "**Option 3:** Audio"
   ]
  },
  {
   "cell_type": "markdown",
   "id": "22e184c3",
   "metadata": {},
   "source": [
    "### STEP 2.0: Background on Midi files and pretty_midi python Library. \n",
    "\n",
    "\"MIDI files, short for Musical Instrument Digital Interface files, are a type of data file that contains instructions for musical performance rather than actual audio recordings. MIDI files are essentially a set of instructions that tell electronic instruments or software what notes to play, how long to play them, and how loudly\". (Perplexity, 2024). The MIDI file format is standardized and can be found here: (https://midi.org/standard-midi-files)\n",
    "\n",
    "Pretty_midi is a python library that parses a midi file and converts it into \"a container for MIDI data in an easily-manipulable format.\" (https://craffel.github.io/pretty-midi/#pretty-midi-prettymidi). The container is a list of instruments, with each instrument containing a list of notes to be played.\n",
    "\n",
    "For each **Instrument**, the most basic attributes are: \n",
    "> **program:** provides the numerical mapping to actual musical instrument.(https://fmslogo.sourceforge.io/manual/midi-instrument.html). <br>\n",
    "> **notes:** provides a sequence of 'Notes' to be played by the instrument.<br>\n",
    "> Each of these notes is a vector containing {start, end, pitch, and velocity} values (https://craffel.github.io/pretty-midi/#pretty_midi.Note).\n",
    ">> **start:** absolute time in seconds when this note is to be played <br>\n",
    ">> **end:** absolute time in seconds when playing of this note ends.<br>\n",
    ">> **pitch:** integer representation of actual musical notes (values 0-127)<br>\n",
    ">> **velocity:** integer representation of the loudness of this note (values 0-127)\n",
    "\n",
    "Effectively, a pretty_midi file is a 3-D vector of the following shape:\n",
    ">(num of instruments) x (num of 'Notes' per instrument) x [start, end, pitch, velocity]"
   ]
  },
  {
   "cell_type": "code",
   "execution_count": 8,
   "id": "9ada1d89",
   "metadata": {},
   "outputs": [
    {
     "data": {
      "text/html": [
       "<div class=\"bk-root\">\n",
       "        <a href=\"https://bokeh.org\" target=\"_blank\" class=\"bk-logo bk-logo-small bk-logo-notebook\"></a>\n",
       "        <span id=\"1163\">Loading BokehJS ...</span>\n",
       "    </div>\n"
      ]
     },
     "metadata": {},
     "output_type": "display_data"
    },
    {
     "data": {
      "application/javascript": [
       "(function(root) {\n",
       "  function now() {\n",
       "    return new Date();\n",
       "  }\n",
       "\n",
       "  const force = true;\n",
       "\n",
       "  if (typeof root._bokeh_onload_callbacks === \"undefined\" || force === true) {\n",
       "    root._bokeh_onload_callbacks = [];\n",
       "    root._bokeh_is_loading = undefined;\n",
       "  }\n",
       "\n",
       "const JS_MIME_TYPE = 'application/javascript';\n",
       "  const HTML_MIME_TYPE = 'text/html';\n",
       "  const EXEC_MIME_TYPE = 'application/vnd.bokehjs_exec.v0+json';\n",
       "  const CLASS_NAME = 'output_bokeh rendered_html';\n",
       "\n",
       "  /**\n",
       "   * Render data to the DOM node\n",
       "   */\n",
       "  function render(props, node) {\n",
       "    const script = document.createElement(\"script\");\n",
       "    node.appendChild(script);\n",
       "  }\n",
       "\n",
       "  /**\n",
       "   * Handle when an output is cleared or removed\n",
       "   */\n",
       "  function handleClearOutput(event, handle) {\n",
       "    const cell = handle.cell;\n",
       "\n",
       "    const id = cell.output_area._bokeh_element_id;\n",
       "    const server_id = cell.output_area._bokeh_server_id;\n",
       "    // Clean up Bokeh references\n",
       "    if (id != null && id in Bokeh.index) {\n",
       "      Bokeh.index[id].model.document.clear();\n",
       "      delete Bokeh.index[id];\n",
       "    }\n",
       "\n",
       "    if (server_id !== undefined) {\n",
       "      // Clean up Bokeh references\n",
       "      const cmd_clean = \"from bokeh.io.state import curstate; print(curstate().uuid_to_server['\" + server_id + \"'].get_sessions()[0].document.roots[0]._id)\";\n",
       "      cell.notebook.kernel.execute(cmd_clean, {\n",
       "        iopub: {\n",
       "          output: function(msg) {\n",
       "            const id = msg.content.text.trim();\n",
       "            if (id in Bokeh.index) {\n",
       "              Bokeh.index[id].model.document.clear();\n",
       "              delete Bokeh.index[id];\n",
       "            }\n",
       "          }\n",
       "        }\n",
       "      });\n",
       "      // Destroy server and session\n",
       "      const cmd_destroy = \"import bokeh.io.notebook as ion; ion.destroy_server('\" + server_id + \"')\";\n",
       "      cell.notebook.kernel.execute(cmd_destroy);\n",
       "    }\n",
       "  }\n",
       "\n",
       "  /**\n",
       "   * Handle when a new output is added\n",
       "   */\n",
       "  function handleAddOutput(event, handle) {\n",
       "    const output_area = handle.output_area;\n",
       "    const output = handle.output;\n",
       "\n",
       "    // limit handleAddOutput to display_data with EXEC_MIME_TYPE content only\n",
       "    if ((output.output_type != \"display_data\") || (!Object.prototype.hasOwnProperty.call(output.data, EXEC_MIME_TYPE))) {\n",
       "      return\n",
       "    }\n",
       "\n",
       "    const toinsert = output_area.element.find(\".\" + CLASS_NAME.split(' ')[0]);\n",
       "\n",
       "    if (output.metadata[EXEC_MIME_TYPE][\"id\"] !== undefined) {\n",
       "      toinsert[toinsert.length - 1].firstChild.textContent = output.data[JS_MIME_TYPE];\n",
       "      // store reference to embed id on output_area\n",
       "      output_area._bokeh_element_id = output.metadata[EXEC_MIME_TYPE][\"id\"];\n",
       "    }\n",
       "    if (output.metadata[EXEC_MIME_TYPE][\"server_id\"] !== undefined) {\n",
       "      const bk_div = document.createElement(\"div\");\n",
       "      bk_div.innerHTML = output.data[HTML_MIME_TYPE];\n",
       "      const script_attrs = bk_div.children[0].attributes;\n",
       "      for (let i = 0; i < script_attrs.length; i++) {\n",
       "        toinsert[toinsert.length - 1].firstChild.setAttribute(script_attrs[i].name, script_attrs[i].value);\n",
       "        toinsert[toinsert.length - 1].firstChild.textContent = bk_div.children[0].textContent\n",
       "      }\n",
       "      // store reference to server id on output_area\n",
       "      output_area._bokeh_server_id = output.metadata[EXEC_MIME_TYPE][\"server_id\"];\n",
       "    }\n",
       "  }\n",
       "\n",
       "  function register_renderer(events, OutputArea) {\n",
       "\n",
       "    function append_mime(data, metadata, element) {\n",
       "      // create a DOM node to render to\n",
       "      const toinsert = this.create_output_subarea(\n",
       "        metadata,\n",
       "        CLASS_NAME,\n",
       "        EXEC_MIME_TYPE\n",
       "      );\n",
       "      this.keyboard_manager.register_events(toinsert);\n",
       "      // Render to node\n",
       "      const props = {data: data, metadata: metadata[EXEC_MIME_TYPE]};\n",
       "      render(props, toinsert[toinsert.length - 1]);\n",
       "      element.append(toinsert);\n",
       "      return toinsert\n",
       "    }\n",
       "\n",
       "    /* Handle when an output is cleared or removed */\n",
       "    events.on('clear_output.CodeCell', handleClearOutput);\n",
       "    events.on('delete.Cell', handleClearOutput);\n",
       "\n",
       "    /* Handle when a new output is added */\n",
       "    events.on('output_added.OutputArea', handleAddOutput);\n",
       "\n",
       "    /**\n",
       "     * Register the mime type and append_mime function with output_area\n",
       "     */\n",
       "    OutputArea.prototype.register_mime_type(EXEC_MIME_TYPE, append_mime, {\n",
       "      /* Is output safe? */\n",
       "      safe: true,\n",
       "      /* Index of renderer in `output_area.display_order` */\n",
       "      index: 0\n",
       "    });\n",
       "  }\n",
       "\n",
       "  // register the mime type if in Jupyter Notebook environment and previously unregistered\n",
       "  if (root.Jupyter !== undefined) {\n",
       "    const events = require('base/js/events');\n",
       "    const OutputArea = require('notebook/js/outputarea').OutputArea;\n",
       "\n",
       "    if (OutputArea.prototype.mime_types().indexOf(EXEC_MIME_TYPE) == -1) {\n",
       "      register_renderer(events, OutputArea);\n",
       "    }\n",
       "  }\n",
       "  if (typeof (root._bokeh_timeout) === \"undefined\" || force === true) {\n",
       "    root._bokeh_timeout = Date.now() + 5000;\n",
       "    root._bokeh_failed_load = false;\n",
       "  }\n",
       "\n",
       "  const NB_LOAD_WARNING = {'data': {'text/html':\n",
       "     \"<div style='background-color: #fdd'>\\n\"+\n",
       "     \"<p>\\n\"+\n",
       "     \"BokehJS does not appear to have successfully loaded. If loading BokehJS from CDN, this \\n\"+\n",
       "     \"may be due to a slow or bad network connection. Possible fixes:\\n\"+\n",
       "     \"</p>\\n\"+\n",
       "     \"<ul>\\n\"+\n",
       "     \"<li>re-rerun `output_notebook()` to attempt to load from CDN again, or</li>\\n\"+\n",
       "     \"<li>use INLINE resources instead, as so:</li>\\n\"+\n",
       "     \"</ul>\\n\"+\n",
       "     \"<code>\\n\"+\n",
       "     \"from bokeh.resources import INLINE\\n\"+\n",
       "     \"output_notebook(resources=INLINE)\\n\"+\n",
       "     \"</code>\\n\"+\n",
       "     \"</div>\"}};\n",
       "\n",
       "  function display_loaded() {\n",
       "    const el = document.getElementById(\"1163\");\n",
       "    if (el != null) {\n",
       "      el.textContent = \"BokehJS is loading...\";\n",
       "    }\n",
       "    if (root.Bokeh !== undefined) {\n",
       "      if (el != null) {\n",
       "        el.textContent = \"BokehJS \" + root.Bokeh.version + \" successfully loaded.\";\n",
       "      }\n",
       "    } else if (Date.now() < root._bokeh_timeout) {\n",
       "      setTimeout(display_loaded, 100)\n",
       "    }\n",
       "  }\n",
       "\n",
       "  function run_callbacks() {\n",
       "    try {\n",
       "      root._bokeh_onload_callbacks.forEach(function(callback) {\n",
       "        if (callback != null)\n",
       "          callback();\n",
       "      });\n",
       "    } finally {\n",
       "      delete root._bokeh_onload_callbacks\n",
       "    }\n",
       "    console.debug(\"Bokeh: all callbacks have finished\");\n",
       "  }\n",
       "\n",
       "  function load_libs(css_urls, js_urls, callback) {\n",
       "    if (css_urls == null) css_urls = [];\n",
       "    if (js_urls == null) js_urls = [];\n",
       "\n",
       "    root._bokeh_onload_callbacks.push(callback);\n",
       "    if (root._bokeh_is_loading > 0) {\n",
       "      console.debug(\"Bokeh: BokehJS is being loaded, scheduling callback at\", now());\n",
       "      return null;\n",
       "    }\n",
       "    if (js_urls == null || js_urls.length === 0) {\n",
       "      run_callbacks();\n",
       "      return null;\n",
       "    }\n",
       "    console.debug(\"Bokeh: BokehJS not loaded, scheduling load and callback at\", now());\n",
       "    root._bokeh_is_loading = css_urls.length + js_urls.length;\n",
       "\n",
       "    function on_load() {\n",
       "      root._bokeh_is_loading--;\n",
       "      if (root._bokeh_is_loading === 0) {\n",
       "        console.debug(\"Bokeh: all BokehJS libraries/stylesheets loaded\");\n",
       "        run_callbacks()\n",
       "      }\n",
       "    }\n",
       "\n",
       "    function on_error(url) {\n",
       "      console.error(\"failed to load \" + url);\n",
       "    }\n",
       "\n",
       "    for (let i = 0; i < css_urls.length; i++) {\n",
       "      const url = css_urls[i];\n",
       "      const element = document.createElement(\"link\");\n",
       "      element.onload = on_load;\n",
       "      element.onerror = on_error.bind(null, url);\n",
       "      element.rel = \"stylesheet\";\n",
       "      element.type = \"text/css\";\n",
       "      element.href = url;\n",
       "      console.debug(\"Bokeh: injecting link tag for BokehJS stylesheet: \", url);\n",
       "      document.body.appendChild(element);\n",
       "    }\n",
       "\n",
       "    for (let i = 0; i < js_urls.length; i++) {\n",
       "      const url = js_urls[i];\n",
       "      const element = document.createElement('script');\n",
       "      element.onload = on_load;\n",
       "      element.onerror = on_error.bind(null, url);\n",
       "      element.async = false;\n",
       "      element.src = url;\n",
       "      console.debug(\"Bokeh: injecting script tag for BokehJS library: \", url);\n",
       "      document.head.appendChild(element);\n",
       "    }\n",
       "  };\n",
       "\n",
       "  function inject_raw_css(css) {\n",
       "    const element = document.createElement(\"style\");\n",
       "    element.appendChild(document.createTextNode(css));\n",
       "    document.body.appendChild(element);\n",
       "  }\n",
       "\n",
       "  const js_urls = [\"https://cdn.bokeh.org/bokeh/release/bokeh-2.4.3.min.js\", \"https://cdn.bokeh.org/bokeh/release/bokeh-gl-2.4.3.min.js\", \"https://cdn.bokeh.org/bokeh/release/bokeh-widgets-2.4.3.min.js\", \"https://cdn.bokeh.org/bokeh/release/bokeh-tables-2.4.3.min.js\", \"https://cdn.bokeh.org/bokeh/release/bokeh-mathjax-2.4.3.min.js\"];\n",
       "  const css_urls = [];\n",
       "\n",
       "  const inline_js = [    function(Bokeh) {\n",
       "      Bokeh.set_log_level(\"info\");\n",
       "    },\n",
       "function(Bokeh) {\n",
       "    }\n",
       "  ];\n",
       "\n",
       "  function run_inline_js() {\n",
       "    if (root.Bokeh !== undefined || force === true) {\n",
       "          for (let i = 0; i < inline_js.length; i++) {\n",
       "      inline_js[i].call(root, root.Bokeh);\n",
       "    }\n",
       "if (force === true) {\n",
       "        display_loaded();\n",
       "      }} else if (Date.now() < root._bokeh_timeout) {\n",
       "      setTimeout(run_inline_js, 100);\n",
       "    } else if (!root._bokeh_failed_load) {\n",
       "      console.log(\"Bokeh: BokehJS failed to load within specified timeout.\");\n",
       "      root._bokeh_failed_load = true;\n",
       "    } else if (force !== true) {\n",
       "      const cell = $(document.getElementById(\"1163\")).parents('.cell').data().cell;\n",
       "      cell.output_area.append_execute_result(NB_LOAD_WARNING)\n",
       "    }\n",
       "  }\n",
       "\n",
       "  if (root._bokeh_is_loading === 0) {\n",
       "    console.debug(\"Bokeh: BokehJS loaded, going straight to plotting\");\n",
       "    run_inline_js();\n",
       "  } else {\n",
       "    load_libs(css_urls, js_urls, function() {\n",
       "      console.debug(\"Bokeh: BokehJS plotting callback run at\", now());\n",
       "      run_inline_js();\n",
       "    });\n",
       "  }\n",
       "}(window));"
      ],
      "application/vnd.bokehjs_load.v0+json": "(function(root) {\n  function now() {\n    return new Date();\n  }\n\n  const force = true;\n\n  if (typeof root._bokeh_onload_callbacks === \"undefined\" || force === true) {\n    root._bokeh_onload_callbacks = [];\n    root._bokeh_is_loading = undefined;\n  }\n\n\n  if (typeof (root._bokeh_timeout) === \"undefined\" || force === true) {\n    root._bokeh_timeout = Date.now() + 5000;\n    root._bokeh_failed_load = false;\n  }\n\n  const NB_LOAD_WARNING = {'data': {'text/html':\n     \"<div style='background-color: #fdd'>\\n\"+\n     \"<p>\\n\"+\n     \"BokehJS does not appear to have successfully loaded. If loading BokehJS from CDN, this \\n\"+\n     \"may be due to a slow or bad network connection. Possible fixes:\\n\"+\n     \"</p>\\n\"+\n     \"<ul>\\n\"+\n     \"<li>re-rerun `output_notebook()` to attempt to load from CDN again, or</li>\\n\"+\n     \"<li>use INLINE resources instead, as so:</li>\\n\"+\n     \"</ul>\\n\"+\n     \"<code>\\n\"+\n     \"from bokeh.resources import INLINE\\n\"+\n     \"output_notebook(resources=INLINE)\\n\"+\n     \"</code>\\n\"+\n     \"</div>\"}};\n\n  function display_loaded() {\n    const el = document.getElementById(\"1163\");\n    if (el != null) {\n      el.textContent = \"BokehJS is loading...\";\n    }\n    if (root.Bokeh !== undefined) {\n      if (el != null) {\n        el.textContent = \"BokehJS \" + root.Bokeh.version + \" successfully loaded.\";\n      }\n    } else if (Date.now() < root._bokeh_timeout) {\n      setTimeout(display_loaded, 100)\n    }\n  }\n\n  function run_callbacks() {\n    try {\n      root._bokeh_onload_callbacks.forEach(function(callback) {\n        if (callback != null)\n          callback();\n      });\n    } finally {\n      delete root._bokeh_onload_callbacks\n    }\n    console.debug(\"Bokeh: all callbacks have finished\");\n  }\n\n  function load_libs(css_urls, js_urls, callback) {\n    if (css_urls == null) css_urls = [];\n    if (js_urls == null) js_urls = [];\n\n    root._bokeh_onload_callbacks.push(callback);\n    if (root._bokeh_is_loading > 0) {\n      console.debug(\"Bokeh: BokehJS is being loaded, scheduling callback at\", now());\n      return null;\n    }\n    if (js_urls == null || js_urls.length === 0) {\n      run_callbacks();\n      return null;\n    }\n    console.debug(\"Bokeh: BokehJS not loaded, scheduling load and callback at\", now());\n    root._bokeh_is_loading = css_urls.length + js_urls.length;\n\n    function on_load() {\n      root._bokeh_is_loading--;\n      if (root._bokeh_is_loading === 0) {\n        console.debug(\"Bokeh: all BokehJS libraries/stylesheets loaded\");\n        run_callbacks()\n      }\n    }\n\n    function on_error(url) {\n      console.error(\"failed to load \" + url);\n    }\n\n    for (let i = 0; i < css_urls.length; i++) {\n      const url = css_urls[i];\n      const element = document.createElement(\"link\");\n      element.onload = on_load;\n      element.onerror = on_error.bind(null, url);\n      element.rel = \"stylesheet\";\n      element.type = \"text/css\";\n      element.href = url;\n      console.debug(\"Bokeh: injecting link tag for BokehJS stylesheet: \", url);\n      document.body.appendChild(element);\n    }\n\n    for (let i = 0; i < js_urls.length; i++) {\n      const url = js_urls[i];\n      const element = document.createElement('script');\n      element.onload = on_load;\n      element.onerror = on_error.bind(null, url);\n      element.async = false;\n      element.src = url;\n      console.debug(\"Bokeh: injecting script tag for BokehJS library: \", url);\n      document.head.appendChild(element);\n    }\n  };\n\n  function inject_raw_css(css) {\n    const element = document.createElement(\"style\");\n    element.appendChild(document.createTextNode(css));\n    document.body.appendChild(element);\n  }\n\n  const js_urls = [\"https://cdn.bokeh.org/bokeh/release/bokeh-2.4.3.min.js\", \"https://cdn.bokeh.org/bokeh/release/bokeh-gl-2.4.3.min.js\", \"https://cdn.bokeh.org/bokeh/release/bokeh-widgets-2.4.3.min.js\", \"https://cdn.bokeh.org/bokeh/release/bokeh-tables-2.4.3.min.js\", \"https://cdn.bokeh.org/bokeh/release/bokeh-mathjax-2.4.3.min.js\"];\n  const css_urls = [];\n\n  const inline_js = [    function(Bokeh) {\n      Bokeh.set_log_level(\"info\");\n    },\nfunction(Bokeh) {\n    }\n  ];\n\n  function run_inline_js() {\n    if (root.Bokeh !== undefined || force === true) {\n          for (let i = 0; i < inline_js.length; i++) {\n      inline_js[i].call(root, root.Bokeh);\n    }\nif (force === true) {\n        display_loaded();\n      }} else if (Date.now() < root._bokeh_timeout) {\n      setTimeout(run_inline_js, 100);\n    } else if (!root._bokeh_failed_load) {\n      console.log(\"Bokeh: BokehJS failed to load within specified timeout.\");\n      root._bokeh_failed_load = true;\n    } else if (force !== true) {\n      const cell = $(document.getElementById(\"1163\")).parents('.cell').data().cell;\n      cell.output_area.append_execute_result(NB_LOAD_WARNING)\n    }\n  }\n\n  if (root._bokeh_is_loading === 0) {\n    console.debug(\"Bokeh: BokehJS loaded, going straight to plotting\");\n    run_inline_js();\n  } else {\n    load_libs(css_urls, js_urls, function() {\n      console.debug(\"Bokeh: BokehJS plotting callback run at\", now());\n      run_inline_js();\n    });\n  }\n}(window));"
     },
     "metadata": {},
     "output_type": "display_data"
    },
    {
     "data": {
      "text/html": [
       "\n",
       "  <div class=\"bk-root\" id=\"c17da243-6587-4475-800c-76c7c2566f38\" data-root-id=\"1162\"></div>\n"
      ]
     },
     "metadata": {},
     "output_type": "display_data"
    },
    {
     "data": {
      "application/javascript": [
       "(function(root) {\n",
       "  function embed_document(root) {\n",
       "  const docs_json = {\"792c65ce-7d64-4734-b933-55efdca4f891\":{\"defs\":[],\"roots\":{\"references\":[{\"attributes\":{\"children\":[{\"id\":\"1002\"}]},\"id\":\"1162\",\"type\":\"Column\"},{\"attributes\":{\"coordinates\":null,\"group\":null,\"render_mode\":\"css\",\"text\":\"58\",\"text_font_size\":\"10px\",\"x\":-18,\"x_units\":\"screen\",\"y\":58.1},\"id\":\"1082\",\"type\":\"Label\"},{\"attributes\":{\"coordinates\":null,\"fill_color\":null,\"group\":null,\"left\":6.875,\"level\":\"underlay\",\"line_alpha\":0.4,\"line_color\":\"black\",\"right\":7.5},\"id\":\"1137\",\"type\":\"BoxAnnotation\"},{\"attributes\":{\"coordinates\":null,\"fill_color\":null,\"group\":null,\"left\":8.125,\"level\":\"underlay\",\"line_alpha\":0.4,\"line_color\":\"black\",\"right\":8.75},\"id\":\"1139\",\"type\":\"BoxAnnotation\"},{\"attributes\":{\"coordinates\":null,\"data_source\":{\"id\":\"1038\"},\"glyph\":{\"id\":\"1040\"},\"group\":null,\"hover_glyph\":null,\"muted_glyph\":{\"id\":\"1042\"},\"nonselection_glyph\":{\"id\":\"1041\"},\"view\":{\"id\":\"1044\"}},\"id\":\"1043\",\"type\":\"GlyphRenderer\"},{\"attributes\":{\"below\":[{\"id\":\"1011\"}],\"center\":[{\"id\":\"1014\"},{\"id\":\"1018\"},{\"id\":\"1045\"},{\"id\":\"1046\"},{\"id\":\"1047\"},{\"id\":\"1048\"},{\"id\":\"1049\"},{\"id\":\"1050\"},{\"id\":\"1051\"},{\"id\":\"1052\"},{\"id\":\"1053\"},{\"id\":\"1054\"},{\"id\":\"1055\"},{\"id\":\"1056\"},{\"id\":\"1057\"},{\"id\":\"1058\"},{\"id\":\"1059\"},{\"id\":\"1060\"},{\"id\":\"1061\"},{\"id\":\"1062\"},{\"id\":\"1063\"},{\"id\":\"1064\"},{\"id\":\"1065\"},{\"id\":\"1066\"},{\"id\":\"1067\"},{\"id\":\"1068\"},{\"id\":\"1069\"},{\"id\":\"1070\"},{\"id\":\"1071\"},{\"id\":\"1072\"},{\"id\":\"1073\"},{\"id\":\"1074\"},{\"id\":\"1075\"},{\"id\":\"1076\"},{\"id\":\"1077\"},{\"id\":\"1078\"},{\"id\":\"1079\"},{\"id\":\"1080\"},{\"id\":\"1081\"},{\"id\":\"1082\"},{\"id\":\"1083\"},{\"id\":\"1084\"},{\"id\":\"1085\"},{\"id\":\"1086\"},{\"id\":\"1087\"},{\"id\":\"1088\"},{\"id\":\"1089\"},{\"id\":\"1090\"},{\"id\":\"1091\"},{\"id\":\"1092\"},{\"id\":\"1093\"},{\"id\":\"1094\"},{\"id\":\"1095\"},{\"id\":\"1096\"},{\"id\":\"1097\"},{\"id\":\"1098\"},{\"id\":\"1099\"},{\"id\":\"1100\"},{\"id\":\"1101\"},{\"id\":\"1102\"},{\"id\":\"1103\"},{\"id\":\"1104\"},{\"id\":\"1105\"},{\"id\":\"1106\"},{\"id\":\"1107\"},{\"id\":\"1108\"},{\"id\":\"1109\"},{\"id\":\"1110\"},{\"id\":\"1111\"},{\"id\":\"1112\"},{\"id\":\"1113\"},{\"id\":\"1114\"},{\"id\":\"1115\"},{\"id\":\"1116\"},{\"id\":\"1117\"},{\"id\":\"1118\"},{\"id\":\"1119\"},{\"id\":\"1120\"},{\"id\":\"1121\"},{\"id\":\"1122\"},{\"id\":\"1123\"},{\"id\":\"1124\"},{\"id\":\"1125\"},{\"id\":\"1126\"},{\"id\":\"1127\"},{\"id\":\"1128\"},{\"id\":\"1129\"},{\"id\":\"1130\"},{\"id\":\"1131\"},{\"id\":\"1132\"},{\"id\":\"1133\"},{\"id\":\"1134\"},{\"id\":\"1135\"},{\"id\":\"1136\"},{\"id\":\"1137\"},{\"id\":\"1138\"},{\"id\":\"1139\"},{\"id\":\"1140\"},{\"id\":\"1141\"},{\"id\":\"1142\"},{\"id\":\"1143\"},{\"id\":\"1144\"},{\"id\":\"1145\"},{\"id\":\"1146\"},{\"id\":\"1147\"},{\"id\":\"1148\"},{\"id\":\"1149\"},{\"id\":\"1150\"},{\"id\":\"1151\"},{\"id\":\"1152\"},{\"id\":\"1153\"}],\"height\":400,\"left\":[{\"id\":\"1015\"}],\"min_border_right\":50,\"outline_line_color\":\"black\",\"renderers\":[{\"id\":\"1043\"}],\"title\":{\"id\":\"1158\"},\"toolbar\":{\"id\":\"1024\"},\"width\":900,\"x_range\":{\"id\":\"1160\"},\"x_scale\":{\"id\":\"1007\"},\"y_range\":{\"id\":\"1161\"},\"y_scale\":{\"id\":\"1009\"}},\"id\":\"1002\",\"subtype\":\"Figure\",\"type\":\"Plot\"},{\"attributes\":{\"axis_label\":\"pitch (MIDI)\",\"axis_label_standoff\":0,\"axis_label_text_font_size\":\"12px\",\"bounds\":[40,77],\"coordinates\":null,\"formatter\":{\"id\":\"1033\"},\"group\":null,\"major_label_policy\":{\"id\":\"1034\"},\"major_label_text_alpha\":0,\"major_tick_line_alpha\":0.9,\"major_tick_out\":25,\"minor_tick_line_alpha\":0,\"ticker\":{\"id\":\"1156\"}},\"id\":\"1015\",\"type\":\"LinearAxis\"},{\"attributes\":{\"coordinates\":null,\"fill_color\":null,\"group\":null,\"left\":1.25,\"level\":\"underlay\",\"line_alpha\":0.4,\"line_color\":\"black\",\"right\":1.875},\"id\":\"1128\",\"type\":\"BoxAnnotation\"},{\"attributes\":{\"coordinates\":null,\"fill_color\":null,\"group\":null,\"left\":8.75,\"level\":\"underlay\",\"line_alpha\":0.4,\"line_color\":\"black\",\"right\":9.375},\"id\":\"1140\",\"type\":\"BoxAnnotation\"},{\"attributes\":{\"coordinates\":null,\"group\":null,\"render_mode\":\"css\",\"text\":\"44\",\"text_font_size\":\"10px\",\"x\":-18,\"x_units\":\"screen\",\"y\":44.1},\"id\":\"1054\",\"type\":\"Label\"},{\"attributes\":{},\"id\":\"1033\",\"type\":\"BasicTickFormatter\"},{\"attributes\":{\"bottom\":45,\"coordinates\":null,\"fill_alpha\":0.0,\"fill_color\":\"gray\",\"group\":null,\"level\":\"underlay\",\"line_color\":\"black\",\"top\":46},\"id\":\"1055\",\"type\":\"BoxAnnotation\"},{\"attributes\":{\"bottom\":75,\"coordinates\":null,\"fill_alpha\":0.0,\"fill_color\":\"gray\",\"group\":null,\"level\":\"underlay\",\"line_color\":\"black\",\"top\":76},\"id\":\"1115\",\"type\":\"BoxAnnotation\"},{\"attributes\":{\"bottom\":59,\"coordinates\":null,\"fill_alpha\":0.0,\"fill_color\":\"gray\",\"group\":null,\"level\":\"underlay\",\"line_color\":\"black\",\"top\":60},\"id\":\"1083\",\"type\":\"BoxAnnotation\"},{\"attributes\":{\"coordinates\":null,\"group\":null,\"render_mode\":\"css\",\"text\":\"45\",\"text_font_size\":\"10px\",\"x\":-18,\"x_units\":\"screen\",\"y\":45.1},\"id\":\"1056\",\"type\":\"Label\"},{\"attributes\":{\"coordinates\":null,\"fill_color\":null,\"group\":null,\"left\":1.875,\"level\":\"underlay\",\"line_alpha\":0.4,\"line_color\":\"black\",\"right\":2.5},\"id\":\"1129\",\"type\":\"BoxAnnotation\"},{\"attributes\":{\"coordinates\":null,\"group\":null,\"text\":\"Visual MIDI (96 QPM, 4/4)\",\"text_font_size\":\"14px\"},\"id\":\"1158\",\"type\":\"Title\"},{\"attributes\":{\"tools\":[{\"id\":\"1019\"},{\"id\":\"1020\"},{\"id\":\"1021\"},{\"id\":\"1022\"},{\"id\":\"1023\"}]},\"id\":\"1024\",\"type\":\"Toolbar\"},{\"attributes\":{\"coordinates\":null,\"group\":null,\"render_mode\":\"css\",\"text\":\"69\",\"text_font_size\":\"10px\",\"x\":-18,\"x_units\":\"screen\",\"y\":69.1},\"id\":\"1104\",\"type\":\"Label\"},{\"attributes\":{\"interval\":1},\"id\":\"1154\",\"type\":\"SingleIntervalTicker\"},{\"attributes\":{\"bottom\":60,\"coordinates\":null,\"fill_alpha\":0.15,\"fill_color\":\"gray\",\"group\":null,\"level\":\"underlay\",\"line_color\":\"black\",\"top\":61},\"id\":\"1085\",\"type\":\"BoxAnnotation\"},{\"attributes\":{\"coordinates\":null,\"fill_color\":null,\"group\":null,\"left\":9.375,\"level\":\"underlay\",\"line_alpha\":0.4,\"line_color\":\"black\",\"right\":10.0},\"id\":\"1141\",\"type\":\"BoxAnnotation\"},{\"attributes\":{\"bottom\":76,\"coordinates\":null,\"fill_alpha\":0.15,\"fill_color\":\"gray\",\"group\":null,\"level\":\"underlay\",\"line_color\":\"black\",\"top\":77},\"id\":\"1117\",\"type\":\"BoxAnnotation\"},{\"attributes\":{\"bottom\":41,\"coordinates\":null,\"fill_alpha\":0.0,\"fill_color\":\"gray\",\"group\":null,\"level\":\"underlay\",\"line_color\":\"black\",\"top\":42},\"id\":\"1047\",\"type\":\"BoxAnnotation\"},{\"attributes\":{\"bottom\":70,\"coordinates\":null,\"fill_alpha\":0.15,\"fill_color\":\"gray\",\"group\":null,\"level\":\"underlay\",\"line_color\":\"black\",\"top\":71},\"id\":\"1105\",\"type\":\"BoxAnnotation\"},{\"attributes\":{\"coordinates\":null,\"group\":null,\"render_mode\":\"css\",\"text\":\"59\",\"text_font_size\":\"10px\",\"x\":-18,\"x_units\":\"screen\",\"y\":59.1},\"id\":\"1084\",\"type\":\"Label\"},{\"attributes\":{\"coordinates\":null,\"group\":null,\"render_mode\":\"css\",\"text\":\"75\",\"text_font_size\":\"10px\",\"x\":-18,\"x_units\":\"screen\",\"y\":75.1},\"id\":\"1116\",\"type\":\"Label\"},{\"attributes\":{\"axis\":{\"id\":\"1011\"},\"coordinates\":null,\"grid_line_color\":null,\"group\":null,\"ticker\":null},\"id\":\"1014\",\"type\":\"Grid\"},{\"attributes\":{\"coordinates\":null,\"group\":null,\"render_mode\":\"css\",\"text\":\"76\",\"text_font_size\":\"10px\",\"x\":-18,\"x_units\":\"screen\",\"y\":76.1},\"id\":\"1118\",\"type\":\"Label\"},{\"attributes\":{\"coordinates\":null,\"group\":null,\"render_mode\":\"css\",\"text\":\"51\",\"text_font_size\":\"10px\",\"x\":-18,\"x_units\":\"screen\",\"y\":51.1},\"id\":\"1068\",\"type\":\"Label\"},{\"attributes\":{\"coordinates\":null,\"fill_color\":null,\"group\":null,\"left\":10.0,\"level\":\"underlay\",\"line_alpha\":0.4,\"line_color\":\"black\",\"right\":10.625},\"id\":\"1142\",\"type\":\"BoxAnnotation\"},{\"attributes\":{\"bottom\":{\"field\":\"bottom\"},\"fill_alpha\":{\"value\":0.2},\"fill_color\":{\"field\":\"color\"},\"hatch_alpha\":{\"value\":0.2},\"hatch_color\":{\"field\":\"color\"},\"left\":{\"field\":\"left\"},\"line_alpha\":{\"value\":0.2},\"right\":{\"field\":\"right\"},\"top\":{\"field\":\"top\"}},\"id\":\"1042\",\"type\":\"Quad\"},{\"attributes\":{\"coordinates\":null,\"group\":null,\"render_mode\":\"css\",\"text\":\"60\",\"text_font_size\":\"10px\",\"x\":-18,\"x_units\":\"screen\",\"y\":60.1},\"id\":\"1086\",\"type\":\"Label\"},{\"attributes\":{\"coordinates\":null,\"group\":null,\"render_mode\":\"css\",\"text\":\"52\",\"text_font_size\":\"10px\",\"x\":-18,\"x_units\":\"screen\",\"y\":52.1},\"id\":\"1070\",\"type\":\"Label\"},{\"attributes\":{\"coordinates\":null,\"fill_color\":null,\"group\":null,\"left\":10.625,\"level\":\"underlay\",\"line_alpha\":0.4,\"line_color\":\"black\",\"right\":11.25},\"id\":\"1143\",\"type\":\"BoxAnnotation\"},{\"attributes\":{\"coordinates\":null,\"fill_color\":null,\"group\":null,\"left\":11.25,\"level\":\"underlay\",\"line_alpha\":0.4,\"line_color\":\"black\",\"right\":11.875},\"id\":\"1144\",\"type\":\"BoxAnnotation\"},{\"attributes\":{\"coordinates\":null,\"fill_color\":null,\"group\":null,\"left\":2.5,\"level\":\"underlay\",\"line_alpha\":0.4,\"line_color\":\"black\",\"right\":3.125},\"id\":\"1130\",\"type\":\"BoxAnnotation\"},{\"attributes\":{\"end\":17.5,\"start\":7.5},\"id\":\"1160\",\"type\":\"Range1d\"},{\"attributes\":{\"coordinates\":null,\"group\":null,\"render_mode\":\"css\",\"text\":\"46\",\"text_font_size\":\"10px\",\"x\":-18,\"x_units\":\"screen\",\"y\":46.1},\"id\":\"1058\",\"type\":\"Label\"},{\"attributes\":{\"coordinates\":null,\"group\":null,\"render_mode\":\"css\",\"text\":\"40\",\"text_font_size\":\"10px\",\"x\":-18,\"x_units\":\"screen\",\"y\":40.1},\"id\":\"1046\",\"type\":\"Label\"},{\"attributes\":{\"coordinates\":null,\"fill_alpha\":0.25,\"fill_color\":\"gray\",\"group\":null,\"left\":5.0,\"level\":\"underlay\",\"line_alpha\":0.5,\"line_color\":\"black\",\"line_width\":2,\"right\":7.5},\"id\":\"1121\",\"type\":\"BoxAnnotation\"},{\"attributes\":{\"bottom\":42,\"coordinates\":null,\"fill_alpha\":0.15,\"fill_color\":\"gray\",\"group\":null,\"level\":\"underlay\",\"line_color\":\"black\",\"top\":43},\"id\":\"1049\",\"type\":\"BoxAnnotation\"},{\"attributes\":{\"coordinates\":null,\"fill_alpha\":0.25,\"fill_color\":\"gray\",\"group\":null,\"left\":0.0,\"level\":\"underlay\",\"line_alpha\":0.5,\"line_color\":\"black\",\"line_width\":2,\"right\":2.5},\"id\":\"1119\",\"type\":\"BoxAnnotation\"},{\"attributes\":{\"coordinates\":null,\"fill_alpha\":0.05,\"fill_color\":\"gray\",\"group\":null,\"left\":2.5,\"level\":\"underlay\",\"line_alpha\":0.5,\"line_color\":\"black\",\"line_width\":2,\"right\":5.0},\"id\":\"1120\",\"type\":\"BoxAnnotation\"},{\"attributes\":{\"bottom\":61,\"coordinates\":null,\"fill_alpha\":0.0,\"fill_color\":\"gray\",\"group\":null,\"level\":\"underlay\",\"line_color\":\"black\",\"top\":62},\"id\":\"1087\",\"type\":\"BoxAnnotation\"},{\"attributes\":{\"bottom\":46,\"coordinates\":null,\"fill_alpha\":0.15,\"fill_color\":\"gray\",\"group\":null,\"level\":\"underlay\",\"line_color\":\"black\",\"top\":47},\"id\":\"1057\",\"type\":\"BoxAnnotation\"},{\"attributes\":{\"coordinates\":null,\"fill_color\":null,\"group\":null,\"left\":3.125,\"level\":\"underlay\",\"line_alpha\":0.4,\"line_color\":\"black\",\"right\":3.75},\"id\":\"1131\",\"type\":\"BoxAnnotation\"},{\"attributes\":{\"bottom\":47,\"coordinates\":null,\"fill_alpha\":0.0,\"fill_color\":\"gray\",\"group\":null,\"level\":\"underlay\",\"line_color\":\"black\",\"top\":48},\"id\":\"1059\",\"type\":\"BoxAnnotation\"},{\"attributes\":{\"coordinates\":null,\"fill_alpha\":0.05,\"fill_color\":\"gray\",\"group\":null,\"left\":7.5,\"level\":\"underlay\",\"line_alpha\":0.5,\"line_color\":\"black\",\"line_width\":2,\"right\":10.0},\"id\":\"1122\",\"type\":\"BoxAnnotation\"},{\"attributes\":{\"coordinates\":null,\"group\":null,\"render_mode\":\"css\",\"text\":\"70\",\"text_font_size\":\"10px\",\"x\":-18,\"x_units\":\"screen\",\"y\":70.1},\"id\":\"1106\",\"type\":\"Label\"},{\"attributes\":{\"coordinates\":null,\"fill_color\":null,\"group\":null,\"left\":11.875,\"level\":\"underlay\",\"line_alpha\":0.4,\"line_color\":\"black\",\"right\":12.5},\"id\":\"1145\",\"type\":\"BoxAnnotation\"},{\"attributes\":{},\"id\":\"1007\",\"type\":\"LinearScale\"},{\"attributes\":{\"bottom\":62,\"coordinates\":null,\"fill_alpha\":0.15,\"fill_color\":\"gray\",\"group\":null,\"level\":\"underlay\",\"line_color\":\"black\",\"top\":63},\"id\":\"1089\",\"type\":\"BoxAnnotation\"},{\"attributes\":{\"coordinates\":null,\"fill_color\":null,\"group\":null,\"left\":12.5,\"level\":\"underlay\",\"line_alpha\":0.4,\"line_color\":\"black\",\"right\":13.125},\"id\":\"1146\",\"type\":\"BoxAnnotation\"},{\"attributes\":{\"coordinates\":null,\"group\":null,\"render_mode\":\"css\",\"text\":\"47\",\"text_font_size\":\"10px\",\"x\":-18,\"x_units\":\"screen\",\"y\":47.1},\"id\":\"1060\",\"type\":\"Label\"},{\"attributes\":{\"bottom\":53,\"coordinates\":null,\"fill_alpha\":0.0,\"fill_color\":\"gray\",\"group\":null,\"level\":\"underlay\",\"line_color\":\"black\",\"top\":54},\"id\":\"1071\",\"type\":\"BoxAnnotation\"},{\"attributes\":{\"axis_label\":\"time (SEC)\",\"axis_label_text_font_size\":\"12px\",\"bounds\":[7.5,17.5],\"coordinates\":null,\"formatter\":{\"id\":\"1036\"},\"group\":null,\"major_label_policy\":{\"id\":\"1037\"},\"major_label_text_font_size\":\"10px\",\"major_tick_line_alpha\":0.9,\"major_tick_out\":5,\"minor_tick_line_alpha\":0,\"ticker\":{\"id\":\"1154\"}},\"id\":\"1011\",\"type\":\"LinearAxis\"},{\"attributes\":{\"coordinates\":null,\"group\":null,\"render_mode\":\"css\",\"text\":\"61\",\"text_font_size\":\"10px\",\"x\":-18,\"x_units\":\"screen\",\"y\":61.1},\"id\":\"1088\",\"type\":\"Label\"},{\"attributes\":{\"coordinates\":null,\"group\":null,\"render_mode\":\"css\",\"text\":\"53\",\"text_font_size\":\"10px\",\"x\":-18,\"x_units\":\"screen\",\"y\":53.1},\"id\":\"1072\",\"type\":\"Label\"},{\"attributes\":{\"data\":{\"bottom\":[70,73,72,73,75,77,77,75,73,72,72,72,77,75,75,73,72,73,75,73,72,72,70,65,70,72,70,68,68,68,68,66,65,65,65,65,65,67,69,70,69,70,70,69,70,70,69,65,61,65,65,65,63,61,60,61,60,58,57,55,57,57,58,58,60,61,63,65,65,63,65,66,65,63,61,46,58,57,58,46,48,49,51,53,54,56,58,53,41,53,51,49,49,48,46,53,58,56,54,53,51,53,46],\"color\":[\"rgb(90, 77, 174)\",\"rgb(255, 255, 255)\",\"rgb(164, 150, 243)\",\"rgb(255, 255, 255)\",\"rgb(234, 198, 234)\",\"rgb(228, 153, 226)\",\"rgb(228, 153, 226)\",\"rgb(234, 198, 234)\",\"rgb(255, 255, 255)\",\"rgb(164, 150, 243)\",\"rgb(164, 150, 243)\",\"rgb(164, 150, 243)\",\"rgb(228, 153, 226)\",\"rgb(234, 198, 234)\",\"rgb(234, 198, 234)\",\"rgb(255, 255, 255)\",\"rgb(164, 150, 243)\",\"rgb(255, 255, 255)\",\"rgb(234, 198, 234)\",\"rgb(255, 255, 255)\",\"rgb(164, 150, 243)\",\"rgb(164, 150, 243)\",\"rgb(90, 77, 174)\",\"rgb(181, 7, 255)\",\"rgb(90, 77, 174)\",\"rgb(164, 150, 243)\",\"rgb(90, 77, 174)\",\"rgb(179, 0, 179)\",\"rgb(179, 0, 179)\",\"rgb(179, 0, 179)\",\"rgb(179, 0, 179)\",\"rgb(173, 90, 215)\",\"rgb(181, 7, 255)\",\"rgb(181, 7, 255)\",\"rgb(181, 7, 255)\",\"rgb(181, 7, 255)\",\"rgb(181, 7, 255)\",\"rgb(190, 0, 190)\",\"rgb(106, 0, 181)\",\"rgb(90, 77, 174)\",\"rgb(106, 0, 181)\",\"rgb(90, 77, 174)\",\"rgb(90, 77, 174)\",\"rgb(106, 0, 181)\",\"rgb(90, 77, 174)\",\"rgb(90, 77, 174)\",\"rgb(106, 0, 181)\",\"rgb(181, 7, 255)\",\"rgb(255, 51, 255)\",\"rgb(181, 7, 255)\",\"rgb(181, 7, 255)\",\"rgb(181, 7, 255)\",\"rgb(178, 153, 229)\",\"rgb(255, 51, 255)\",\"rgb(255, 51, 255)\",\"rgb(255, 51, 255)\",\"rgb(255, 51, 255)\",\"rgb(244, 175, 244)\",\"rgb(234, 198, 234)\",\"rgb(255, 255, 255)\",\"rgb(234, 198, 234)\",\"rgb(234, 198, 234)\",\"rgb(244, 175, 244)\",\"rgb(244, 175, 244)\",\"rgb(255, 51, 255)\",\"rgb(255, 51, 255)\",\"rgb(178, 153, 229)\",\"rgb(181, 7, 255)\",\"rgb(181, 7, 255)\",\"rgb(178, 153, 229)\",\"rgb(181, 7, 255)\",\"rgb(173, 90, 215)\",\"rgb(181, 7, 255)\",\"rgb(178, 153, 229)\",\"rgb(255, 51, 255)\",\"rgb(162, 88, 232)\",\"rgb(244, 175, 244)\",\"rgb(234, 198, 234)\",\"rgb(244, 175, 244)\",\"rgb(162, 88, 232)\",\"rgb(173, 90, 215)\",\"rgb(190, 0, 190)\",\"rgb(106, 0, 181)\",\"rgb(141, 129, 217)\",\"rgb(164, 150, 243)\",\"rgb(235, 223, 235)\",\"rgb(244, 175, 244)\",\"rgb(141, 129, 217)\",\"rgb(228, 153, 226)\",\"rgb(141, 129, 217)\",\"rgb(106, 0, 181)\",\"rgb(190, 0, 190)\",\"rgb(190, 0, 190)\",\"rgb(173, 90, 215)\",\"rgb(162, 88, 232)\",\"rgb(141, 129, 217)\",\"rgb(244, 175, 244)\",\"rgb(235, 223, 235)\",\"rgb(164, 150, 243)\",\"rgb(141, 129, 217)\",\"rgb(106, 0, 181)\",\"rgb(141, 129, 217)\",\"rgb(162, 88, 232)\"],\"duration\":[0.625,0.625,0.625,0.625,0.625,0.625,0.625,0.625,0.625,1.25,0.625,0.625,0.625,0.625,0.625,0.625,0.625,0.625,0.625,0.625,0.625,0.625,1.25,0.625,0.625,0.9375,0.625,0.3125,0.625,0.625,0.3125,0.3125,0.625,1.25,0.625,0.625,0.625,0.625,0.625,0.9375,0.3125,0.625,0.3125,0.3125,0.625,0.9375,0.3125,1.25,0.625,0.625,0.625,0.625,0.9375,0.15625,0.15625,0.625,0.9375,0.9375,0.3125,0.3125,0.625,0.625,0.625,0.625,0.625,0.3125,0.3125,0.625,0.625,0.625,0.625,0.625,0.46875,0.15625,1.25,0.625,0.9375,0.3125,0.3125,0.3125,0.625,0.3125,0.3125,0.3125,0.3125,0.625,0.625,1.25,0.625,0.3125,0.3125,0.625,0.625,0.625,0.625,0.625,0.3125,0.3125,0.625,0.625,0.625,0.625,1.25],\"left\":[1.875,2.5,3.125,3.75,4.375,5.0,5.625,6.25,6.875,7.5,8.75,9.375,10.0,10.625,11.25,11.875,12.5,13.125,13.75,14.375,15.0,15.625,16.25,1.875,2.5,3.125,4.0625,4.6875,5.0,5.625,6.25,6.5625,6.875,7.5,8.75,9.375,10.0,10.625,11.25,11.875,12.8125,13.125,13.75,14.0625,14.375,15.0,15.9375,16.25,1.875,2.5,3.125,3.75,4.375,5.3125,5.46875,5.625,6.25,7.1875,8.125,8.4375,8.75,9.375,10.0,10.625,11.25,11.875,12.1875,12.5,13.125,13.75,14.375,15.0,15.625,16.09375,16.25,1.875,2.5,3.4375,3.75,4.0625,4.375,5.0,5.3125,5.625,5.9375,6.25,6.875,7.5,8.75,9.375,9.6875,10.0,10.625,11.25,11.875,12.5,13.125,13.4375,13.75,14.375,15.0,15.625,16.25],\"program\":[0,0,0,0,0,0,0,0,0,0,0,0,0,0,0,0,0,0,0,0,0,0,0,0,0,0,0,0,0,0,0,0,0,0,0,0,0,0,0,0,0,0,0,0,0,0,0,0,0,0,0,0,0,0,0,0,0,0,0,0,0,0,0,0,0,0,0,0,0,0,0,0,0,0,0,0,0,0,0,0,0,0,0,0,0,0,0,0,0,0,0,0,0,0,0,0,0,0,0,0,0,0,0],\"right\":[2.5,3.125,3.75,4.375,5.0,5.625,6.25,6.875,7.5,8.75,9.375,10.0,10.625,11.25,11.875,12.5,13.125,13.75,14.375,15.0,15.625,16.25,17.5,2.5,3.125,4.0625,4.6875,5.0,5.625,6.25,6.5625,6.875,7.5,8.75,9.375,10.0,10.625,11.25,11.875,12.8125,13.125,13.75,14.0625,14.375,15.0,15.9375,16.25,17.5,2.5,3.125,3.75,4.375,5.3125,5.46875,5.625,6.25,7.1875,8.125,8.4375,8.75,9.375,10.0,10.625,11.25,11.875,12.1875,12.5,13.125,13.75,14.375,15.0,15.625,16.09375,16.25,17.5,2.5,3.4375,3.75,4.0625,4.375,5.0,5.3125,5.625,5.9375,6.25,6.875,7.5,8.75,9.375,9.6875,10.0,10.625,11.25,11.875,12.5,13.125,13.4375,13.75,14.375,15.0,15.625,16.25,17.5],\"top\":[69,72,71,72,74,76,76,74,72,71,71,71,76,74,74,72,71,72,74,72,71,71,69,64,69,71,69,67,67,67,67,65,64,64,64,64,64,66,68,69,68,69,69,68,69,69,68,64,60,64,64,64,62,60,59,60,59,57,56,54,56,56,57,57,59,60,62,64,64,62,64,65,64,62,60,45,57,56,57,45,47,48,50,52,53,55,57,52,40,52,50,48,48,47,45,52,57,55,53,52,50,52,45],\"velocity\":[96,96,96,96,96,96,96,96,96,96,96,96,96,96,96,96,96,96,96,96,96,96,96,96,96,96,96,96,96,96,96,96,96,96,96,96,96,96,96,96,96,96,96,96,96,96,96,96,96,96,96,96,96,96,96,96,96,96,96,96,96,96,96,96,96,96,96,96,96,96,96,96,96,96,96,96,96,96,96,96,96,96,96,96,96,96,96,96,96,96,96,96,96,96,96,96,96,96,96,96,96,96,96]},\"selected\":{\"id\":\"1170\"},\"selection_policy\":{\"id\":\"1169\"}},\"id\":\"1038\",\"type\":\"ColumnDataSource\"},{\"attributes\":{},\"id\":\"1022\",\"type\":\"WheelZoomTool\"},{\"attributes\":{\"bottom\":71,\"coordinates\":null,\"fill_alpha\":0.0,\"fill_color\":\"gray\",\"group\":null,\"level\":\"underlay\",\"line_color\":\"black\",\"top\":72},\"id\":\"1107\",\"type\":\"BoxAnnotation\"},{\"attributes\":{\"coordinates\":null,\"fill_color\":null,\"group\":null,\"left\":13.125,\"level\":\"underlay\",\"line_alpha\":0.4,\"line_color\":\"black\",\"right\":13.75},\"id\":\"1147\",\"type\":\"BoxAnnotation\"},{\"attributes\":{\"coordinates\":null,\"group\":null,\"render_mode\":\"css\",\"text\":\"62\",\"text_font_size\":\"10px\",\"x\":-18,\"x_units\":\"screen\",\"y\":62.1},\"id\":\"1090\",\"type\":\"Label\"},{\"attributes\":{\"coordinates\":null,\"fill_color\":null,\"group\":null,\"left\":3.75,\"level\":\"underlay\",\"line_alpha\":0.4,\"line_color\":\"black\",\"right\":4.375},\"id\":\"1132\",\"type\":\"BoxAnnotation\"},{\"attributes\":{\"coordinates\":null,\"fill_color\":null,\"group\":null,\"left\":13.75,\"level\":\"underlay\",\"line_alpha\":0.4,\"line_color\":\"black\",\"right\":14.375},\"id\":\"1148\",\"type\":\"BoxAnnotation\"},{\"attributes\":{\"coordinates\":null,\"fill_alpha\":0.25,\"fill_color\":\"gray\",\"group\":null,\"left\":10.0,\"level\":\"underlay\",\"line_alpha\":0.5,\"line_color\":\"black\",\"line_width\":2,\"right\":12.5},\"id\":\"1123\",\"type\":\"BoxAnnotation\"},{\"attributes\":{\"bottom\":54,\"coordinates\":null,\"fill_alpha\":0.15,\"fill_color\":\"gray\",\"group\":null,\"level\":\"underlay\",\"line_color\":\"black\",\"top\":55},\"id\":\"1073\",\"type\":\"BoxAnnotation\"},{\"attributes\":{},\"id\":\"1037\",\"type\":\"AllLabels\"},{\"attributes\":{},\"id\":\"1023\",\"type\":\"PanTool\"},{\"attributes\":{\"bottom\":44,\"coordinates\":null,\"fill_alpha\":0.15,\"fill_color\":\"gray\",\"group\":null,\"level\":\"underlay\",\"line_color\":\"black\",\"top\":45},\"id\":\"1053\",\"type\":\"BoxAnnotation\"},{\"attributes\":{\"bottom\":63,\"coordinates\":null,\"fill_alpha\":0.0,\"fill_color\":\"gray\",\"group\":null,\"level\":\"underlay\",\"line_color\":\"black\",\"top\":64},\"id\":\"1091\",\"type\":\"BoxAnnotation\"},{\"attributes\":{},\"id\":\"1170\",\"type\":\"Selection\"},{\"attributes\":{\"bottom\":55,\"coordinates\":null,\"fill_alpha\":0.0,\"fill_color\":\"gray\",\"group\":null,\"level\":\"underlay\",\"line_color\":\"black\",\"top\":56},\"id\":\"1075\",\"type\":\"BoxAnnotation\"},{\"attributes\":{\"coordinates\":null,\"fill_color\":null,\"group\":null,\"left\":4.375,\"level\":\"underlay\",\"line_alpha\":0.4,\"line_color\":\"black\",\"right\":5.0},\"id\":\"1133\",\"type\":\"BoxAnnotation\"},{\"attributes\":{\"bottom\":43,\"coordinates\":null,\"fill_alpha\":0.0,\"fill_color\":\"gray\",\"group\":null,\"level\":\"underlay\",\"line_color\":\"black\",\"top\":44},\"id\":\"1051\",\"type\":\"BoxAnnotation\"},{\"attributes\":{\"coordinates\":null,\"group\":null,\"render_mode\":\"css\",\"text\":\"43\",\"text_font_size\":\"10px\",\"x\":-18,\"x_units\":\"screen\",\"y\":43.1},\"id\":\"1052\",\"type\":\"Label\"},{\"attributes\":{\"callback\":null,\"tooltips\":[[\"program\",\"@program\"],[\"pitch\",\"@top\"],[\"velocity\",\"@velocity\"],[\"duration\",\"@duration\"],[\"start_time\",\"@left\"],[\"end_time\",\"@right\"]]},\"id\":\"1020\",\"type\":\"HoverTool\"},{\"attributes\":{\"coordinates\":null,\"group\":null,\"render_mode\":\"css\",\"text\":\"71\",\"text_font_size\":\"10px\",\"x\":-18,\"x_units\":\"screen\",\"y\":71.1},\"id\":\"1108\",\"type\":\"Label\"},{\"attributes\":{\"coordinates\":null,\"fill_color\":null,\"group\":null,\"left\":14.375,\"level\":\"underlay\",\"line_alpha\":0.4,\"line_color\":\"black\",\"right\":15.0},\"id\":\"1149\",\"type\":\"BoxAnnotation\"},{\"attributes\":{\"coordinates\":null,\"group\":null,\"render_mode\":\"css\",\"text\":\"42\",\"text_font_size\":\"10px\",\"x\":-18,\"x_units\":\"screen\",\"y\":42.1},\"id\":\"1050\",\"type\":\"Label\"},{\"attributes\":{\"bottom\":48,\"coordinates\":null,\"fill_alpha\":0.15,\"fill_color\":\"gray\",\"group\":null,\"level\":\"underlay\",\"line_color\":\"black\",\"top\":49},\"id\":\"1061\",\"type\":\"BoxAnnotation\"},{\"attributes\":{\"bottom\":64,\"coordinates\":null,\"fill_alpha\":0.15,\"fill_color\":\"gray\",\"group\":null,\"level\":\"underlay\",\"line_color\":\"black\",\"top\":65},\"id\":\"1093\",\"type\":\"BoxAnnotation\"},{\"attributes\":{\"coordinates\":null,\"fill_color\":null,\"group\":null,\"left\":15.0,\"level\":\"underlay\",\"line_alpha\":0.4,\"line_color\":\"black\",\"right\":15.625},\"id\":\"1150\",\"type\":\"BoxAnnotation\"},{\"attributes\":{\"bottom\":49,\"coordinates\":null,\"fill_alpha\":0.0,\"fill_color\":\"gray\",\"group\":null,\"level\":\"underlay\",\"line_color\":\"black\",\"top\":50},\"id\":\"1063\",\"type\":\"BoxAnnotation\"},{\"attributes\":{\"bottom\":52,\"coordinates\":null,\"fill_alpha\":0.15,\"fill_color\":\"gray\",\"group\":null,\"level\":\"underlay\",\"line_color\":\"black\",\"top\":53},\"id\":\"1069\",\"type\":\"BoxAnnotation\"},{\"attributes\":{\"coordinates\":null,\"group\":null,\"render_mode\":\"css\",\"text\":\"54\",\"text_font_size\":\"10px\",\"x\":-18,\"x_units\":\"screen\",\"y\":54.1},\"id\":\"1074\",\"type\":\"Label\"},{\"attributes\":{},\"id\":\"1009\",\"type\":\"LinearScale\"},{\"attributes\":{\"coordinates\":null,\"fill_alpha\":0.05,\"fill_color\":\"gray\",\"group\":null,\"left\":12.5,\"level\":\"underlay\",\"line_alpha\":0.5,\"line_color\":\"black\",\"line_width\":2,\"right\":15.0},\"id\":\"1124\",\"type\":\"BoxAnnotation\"},{\"attributes\":{\"coordinates\":null,\"group\":null,\"render_mode\":\"css\",\"text\":\"48\",\"text_font_size\":\"10px\",\"x\":-18,\"x_units\":\"screen\",\"y\":48.1},\"id\":\"1062\",\"type\":\"Label\"},{\"attributes\":{\"coordinates\":null,\"group\":null,\"render_mode\":\"css\",\"text\":\"55\",\"text_font_size\":\"10px\",\"x\":-18,\"x_units\":\"screen\",\"y\":55.1},\"id\":\"1076\",\"type\":\"Label\"},{\"attributes\":{\"coordinates\":null,\"group\":null,\"render_mode\":\"css\",\"text\":\"67\",\"text_font_size\":\"10px\",\"x\":-18,\"x_units\":\"screen\",\"y\":67.1},\"id\":\"1100\",\"type\":\"Label\"},{\"attributes\":{\"coordinates\":null,\"group\":null,\"render_mode\":\"css\",\"text\":\"63\",\"text_font_size\":\"10px\",\"x\":-18,\"x_units\":\"screen\",\"y\":63.1},\"id\":\"1092\",\"type\":\"Label\"},{\"attributes\":{\"bottom\":73,\"coordinates\":null,\"fill_alpha\":0.0,\"fill_color\":\"gray\",\"group\":null,\"level\":\"underlay\",\"line_color\":\"black\",\"top\":74},\"id\":\"1111\",\"type\":\"BoxAnnotation\"},{\"attributes\":{\"bottom\":56,\"coordinates\":null,\"fill_alpha\":0.15,\"fill_color\":\"gray\",\"group\":null,\"level\":\"underlay\",\"line_color\":\"black\",\"top\":57},\"id\":\"1077\",\"type\":\"BoxAnnotation\"},{\"attributes\":{\"bottom\":68,\"coordinates\":null,\"fill_alpha\":0.15,\"fill_color\":\"gray\",\"group\":null,\"level\":\"underlay\",\"line_color\":\"black\",\"top\":69},\"id\":\"1101\",\"type\":\"BoxAnnotation\"},{\"attributes\":{\"coordinates\":null,\"fill_color\":null,\"group\":null,\"left\":15.625,\"level\":\"underlay\",\"line_alpha\":0.4,\"line_color\":\"black\",\"right\":16.25},\"id\":\"1151\",\"type\":\"BoxAnnotation\"},{\"attributes\":{\"bottom\":{\"field\":\"bottom\"},\"fill_color\":{\"field\":\"color\"},\"hatch_color\":{\"field\":\"color\"},\"left\":{\"field\":\"left\"},\"right\":{\"field\":\"right\"},\"top\":{\"field\":\"top\"}},\"id\":\"1040\",\"type\":\"Quad\"},{\"attributes\":{\"coordinates\":null,\"group\":null,\"render_mode\":\"css\",\"text\":\"41\",\"text_font_size\":\"10px\",\"x\":-18,\"x_units\":\"screen\",\"y\":41.1},\"id\":\"1048\",\"type\":\"Label\"},{\"attributes\":{\"coordinates\":null,\"group\":null,\"render_mode\":\"css\",\"text\":\"49\",\"text_font_size\":\"10px\",\"x\":-18,\"x_units\":\"screen\",\"y\":49.1},\"id\":\"1064\",\"type\":\"Label\"},{\"attributes\":{},\"id\":\"1019\",\"type\":\"ResetTool\"},{\"attributes\":{\"bottom\":72,\"coordinates\":null,\"fill_alpha\":0.15,\"fill_color\":\"gray\",\"group\":null,\"level\":\"underlay\",\"line_color\":\"black\",\"top\":73},\"id\":\"1109\",\"type\":\"BoxAnnotation\"},{\"attributes\":{\"coordinates\":null,\"fill_alpha\":0.25,\"fill_color\":\"gray\",\"group\":null,\"left\":15.0,\"level\":\"underlay\",\"line_alpha\":0.5,\"line_color\":\"black\",\"line_width\":2,\"right\":17.5},\"id\":\"1125\",\"type\":\"BoxAnnotation\"},{\"attributes\":{\"end\":77,\"start\":40},\"id\":\"1161\",\"type\":\"Range1d\"},{\"attributes\":{\"coordinates\":null,\"group\":null,\"render_mode\":\"css\",\"text\":\"64\",\"text_font_size\":\"10px\",\"x\":-18,\"x_units\":\"screen\",\"y\":64.1},\"id\":\"1094\",\"type\":\"Label\"},{\"attributes\":{\"coordinates\":null,\"fill_color\":null,\"group\":null,\"left\":16.875,\"level\":\"underlay\",\"line_alpha\":0.4,\"line_color\":\"black\",\"right\":17.5},\"id\":\"1153\",\"type\":\"BoxAnnotation\"},{\"attributes\":{\"coordinates\":null,\"fill_color\":null,\"group\":null,\"left\":5.625,\"level\":\"underlay\",\"line_alpha\":0.4,\"line_color\":\"black\",\"right\":6.25},\"id\":\"1135\",\"type\":\"BoxAnnotation\"},{\"attributes\":{},\"id\":\"1169\",\"type\":\"UnionRenderers\"},{\"attributes\":{\"coordinates\":null,\"fill_color\":null,\"group\":null,\"left\":16.25,\"level\":\"underlay\",\"line_alpha\":0.4,\"line_color\":\"black\",\"right\":16.875},\"id\":\"1152\",\"type\":\"BoxAnnotation\"},{\"attributes\":{\"coordinates\":null,\"group\":null,\"render_mode\":\"css\",\"text\":\"56\",\"text_font_size\":\"10px\",\"x\":-18,\"x_units\":\"screen\",\"y\":56.1},\"id\":\"1078\",\"type\":\"Label\"},{\"attributes\":{\"bottom\":65,\"coordinates\":null,\"fill_alpha\":0.0,\"fill_color\":\"gray\",\"group\":null,\"level\":\"underlay\",\"line_color\":\"black\",\"top\":66},\"id\":\"1095\",\"type\":\"BoxAnnotation\"},{\"attributes\":{\"coordinates\":null,\"group\":null,\"render_mode\":\"css\",\"text\":\"72\",\"text_font_size\":\"10px\",\"x\":-18,\"x_units\":\"screen\",\"y\":72.1},\"id\":\"1110\",\"type\":\"Label\"},{\"attributes\":{\"coordinates\":null,\"group\":null,\"render_mode\":\"css\",\"text\":\"73\",\"text_font_size\":\"10px\",\"x\":-18,\"x_units\":\"screen\",\"y\":73.1},\"id\":\"1112\",\"type\":\"Label\"},{\"attributes\":{\"bottom\":66,\"coordinates\":null,\"fill_alpha\":0.15,\"fill_color\":\"gray\",\"group\":null,\"level\":\"underlay\",\"line_color\":\"black\",\"top\":67},\"id\":\"1097\",\"type\":\"BoxAnnotation\"},{\"attributes\":{\"coordinates\":null,\"fill_color\":null,\"group\":null,\"left\":5.0,\"level\":\"underlay\",\"line_alpha\":0.4,\"line_color\":\"black\",\"right\":5.625},\"id\":\"1134\",\"type\":\"BoxAnnotation\"},{\"attributes\":{\"bottom\":57,\"coordinates\":null,\"fill_alpha\":0.0,\"fill_color\":\"gray\",\"group\":null,\"level\":\"underlay\",\"line_color\":\"black\",\"top\":58},\"id\":\"1079\",\"type\":\"BoxAnnotation\"},{\"attributes\":{\"coordinates\":null,\"fill_color\":null,\"group\":null,\"left\":0.0,\"level\":\"underlay\",\"line_alpha\":0.4,\"line_color\":\"black\",\"right\":0.625},\"id\":\"1126\",\"type\":\"BoxAnnotation\"},{\"attributes\":{\"axis\":{\"id\":\"1015\"},\"coordinates\":null,\"dimension\":1,\"grid_line_color\":null,\"group\":null,\"ticker\":null},\"id\":\"1018\",\"type\":\"Grid\"},{\"attributes\":{\"bottom\":50,\"coordinates\":null,\"fill_alpha\":0.15,\"fill_color\":\"gray\",\"group\":null,\"level\":\"underlay\",\"line_color\":\"black\",\"top\":51},\"id\":\"1065\",\"type\":\"BoxAnnotation\"},{\"attributes\":{\"bottom\":51,\"coordinates\":null,\"fill_alpha\":0.0,\"fill_color\":\"gray\",\"group\":null,\"level\":\"underlay\",\"line_color\":\"black\",\"top\":52},\"id\":\"1067\",\"type\":\"BoxAnnotation\"},{\"attributes\":{\"coordinates\":null,\"group\":null,\"render_mode\":\"css\",\"text\":\"68\",\"text_font_size\":\"10px\",\"x\":-18,\"x_units\":\"screen\",\"y\":68.1},\"id\":\"1102\",\"type\":\"Label\"},{\"attributes\":{\"coordinates\":null,\"group\":null,\"render_mode\":\"css\",\"text\":\"65\",\"text_font_size\":\"10px\",\"x\":-18,\"x_units\":\"screen\",\"y\":65.1},\"id\":\"1096\",\"type\":\"Label\"},{\"attributes\":{\"bottom\":69,\"coordinates\":null,\"fill_alpha\":0.0,\"fill_color\":\"gray\",\"group\":null,\"level\":\"underlay\",\"line_color\":\"black\",\"top\":70},\"id\":\"1103\",\"type\":\"BoxAnnotation\"},{\"attributes\":{\"bottom\":58,\"coordinates\":null,\"fill_alpha\":0.15,\"fill_color\":\"gray\",\"group\":null,\"level\":\"underlay\",\"line_color\":\"black\",\"top\":59},\"id\":\"1081\",\"type\":\"BoxAnnotation\"},{\"attributes\":{},\"id\":\"1036\",\"type\":\"BasicTickFormatter\"},{\"attributes\":{\"bottom\":74,\"coordinates\":null,\"fill_alpha\":0.15,\"fill_color\":\"gray\",\"group\":null,\"level\":\"underlay\",\"line_color\":\"black\",\"top\":75},\"id\":\"1113\",\"type\":\"BoxAnnotation\"},{\"attributes\":{},\"id\":\"1034\",\"type\":\"AllLabels\"},{\"attributes\":{\"coordinates\":null,\"group\":null,\"render_mode\":\"css\",\"text\":\"50\",\"text_font_size\":\"10px\",\"x\":-18,\"x_units\":\"screen\",\"y\":50.1},\"id\":\"1066\",\"type\":\"Label\"},{\"attributes\":{\"coordinates\":null,\"fill_color\":null,\"group\":null,\"left\":0.625,\"level\":\"underlay\",\"line_alpha\":0.4,\"line_color\":\"black\",\"right\":1.25},\"id\":\"1127\",\"type\":\"BoxAnnotation\"},{\"attributes\":{\"coordinates\":null,\"fill_color\":null,\"group\":null,\"left\":7.5,\"level\":\"underlay\",\"line_alpha\":0.4,\"line_color\":\"black\",\"right\":8.125},\"id\":\"1138\",\"type\":\"BoxAnnotation\"},{\"attributes\":{},\"id\":\"1021\",\"type\":\"SaveTool\"},{\"attributes\":{\"source\":{\"id\":\"1038\"}},\"id\":\"1044\",\"type\":\"CDSView\"},{\"attributes\":{\"coordinates\":null,\"group\":null,\"render_mode\":\"css\",\"text\":\"66\",\"text_font_size\":\"10px\",\"x\":-18,\"x_units\":\"screen\",\"y\":66.1},\"id\":\"1098\",\"type\":\"Label\"},{\"attributes\":{\"coordinates\":null,\"group\":null,\"render_mode\":\"css\",\"text\":\"57\",\"text_font_size\":\"10px\",\"x\":-18,\"x_units\":\"screen\",\"y\":57.1},\"id\":\"1080\",\"type\":\"Label\"},{\"attributes\":{\"bottom\":40,\"coordinates\":null,\"fill_alpha\":0.15,\"fill_color\":\"gray\",\"group\":null,\"level\":\"underlay\",\"line_color\":\"black\",\"top\":41},\"id\":\"1045\",\"type\":\"BoxAnnotation\"},{\"attributes\":{\"bottom\":{\"field\":\"bottom\"},\"fill_alpha\":{\"value\":0.1},\"fill_color\":{\"field\":\"color\"},\"hatch_alpha\":{\"value\":0.1},\"hatch_color\":{\"field\":\"color\"},\"left\":{\"field\":\"left\"},\"line_alpha\":{\"value\":0.1},\"right\":{\"field\":\"right\"},\"top\":{\"field\":\"top\"}},\"id\":\"1041\",\"type\":\"Quad\"},{\"attributes\":{\"coordinates\":null,\"group\":null,\"render_mode\":\"css\",\"text\":\"74\",\"text_font_size\":\"10px\",\"x\":-18,\"x_units\":\"screen\",\"y\":74.1},\"id\":\"1114\",\"type\":\"Label\"},{\"attributes\":{\"bottom\":67,\"coordinates\":null,\"fill_alpha\":0.0,\"fill_color\":\"gray\",\"group\":null,\"level\":\"underlay\",\"line_color\":\"black\",\"top\":68},\"id\":\"1099\",\"type\":\"BoxAnnotation\"},{\"attributes\":{\"coordinates\":null,\"fill_color\":null,\"group\":null,\"left\":6.25,\"level\":\"underlay\",\"line_alpha\":0.4,\"line_color\":\"black\",\"right\":6.875},\"id\":\"1136\",\"type\":\"BoxAnnotation\"},{\"attributes\":{\"interval\":1},\"id\":\"1156\",\"type\":\"SingleIntervalTicker\"}],\"root_ids\":[\"1162\"]},\"title\":\"Bokeh Application\",\"version\":\"2.4.3\"}};\n",
       "  const render_items = [{\"docid\":\"792c65ce-7d64-4734-b933-55efdca4f891\",\"root_ids\":[\"1162\"],\"roots\":{\"1162\":\"c17da243-6587-4475-800c-76c7c2566f38\"}}];\n",
       "  root.Bokeh.embed.embed_items_notebook(docs_json, render_items);\n",
       "  }\n",
       "  if (root.Bokeh !== undefined) {\n",
       "    embed_document(root);\n",
       "  } else {\n",
       "    let attempts = 0;\n",
       "    const timer = setInterval(function(root) {\n",
       "      if (root.Bokeh !== undefined) {\n",
       "        clearInterval(timer);\n",
       "        embed_document(root);\n",
       "      } else {\n",
       "        attempts++;\n",
       "        if (attempts > 100) {\n",
       "          clearInterval(timer);\n",
       "          console.log(\"Bokeh: ERROR: Unable to run BokehJS code because BokehJS library is missing\");\n",
       "        }\n",
       "      }\n",
       "    }, 10, root)\n",
       "  }\n",
       "})(window);"
      ],
      "application/vnd.bokehjs_exec.v0+json": ""
     },
     "metadata": {
      "application/vnd.bokehjs_exec.v0+json": {
       "id": "1162"
      }
     },
     "output_type": "display_data"
    }
   ],
   "source": [
    "# For example, let us visualize one pretty_midi data\n",
    "# The following only works for instrument program no 0 (piano)\n",
    "\n",
    "with warnings.catch_warnings():\n",
    "    warnings.simplefilter(\"ignore\")\n",
    "    preset = Preset(plot_width=900)\n",
    "    plotter = Plotter(preset, plot_max_length_bar=4)\n",
    "    #plotter.show_notebook(X_train[0])\n",
    "    plotter.show_notebook(midisData[566])\n",
    "    "
   ]
  },
  {
   "cell_type": "markdown",
   "id": "3a324093",
   "metadata": {},
   "source": [
    "The plot above is a visualization of the pretty Midi data 'midisData[566]' (the shortest in time length). \n",
    "(Unfortunately, the visual_midi Plotter() function only works for one instrument program = 0)\n",
    "\n",
    "It shows all the different \"Notes\" to be played across time. \n",
    "Each 'Note' is color coded and has a fixed time interval. \n",
    "Hovering the mouse over one 'Note' reveals a vector containing {program, pitch, velocity, duration, start_time, end_time}\n"
   ]
  },
  {
   "cell_type": "markdown",
   "id": "dcb5de09",
   "metadata": {},
   "source": [
    "### STEP 2.1 (OPTION 1): \"BAG of NOTES\" Conversion"
   ]
  },
  {
   "cell_type": "markdown",
   "id": "555894bc",
   "metadata": {},
   "source": [
    "Each midi file is converted into a collection of Note vectors where each vector contains [start, end, pitch, velocity, program]\n",
    "\n",
    "Each imported midi file is converted:\n",
    "\n",
    "From: \n",
    "> **shape:** (?, ?, 4) <br>\n",
    "> **description:** (*num of instruments*) **X** (*num of Notes per instrument*) **X** (*NOTE vector:[start, end, pitch, velocity]*)\n",
    "\n",
    "To:\n",
    "> **shape:** (?, 5) <br>\n",
    "> **description:** (*Number of new Note vectors*) **X** (*new NOTE vector:[start, end, pitch, velocity, program]*)\n",
    "\n",
    "This flattens the pretty_midi vector along the 'instrument' dimension.<br>\n",
    "Also, the Time component is part of each Note vector - i.e. 'start', 'end'.\n",
    "The values are going to be directly used as features.\n"
   ]
  },
  {
   "cell_type": "code",
   "execution_count": 9,
   "id": "651add21",
   "metadata": {},
   "outputs": [],
   "source": [
    "# convert each pretty_midi data into a (None, 5) vector using convertMidisList_OP1() function\n",
    "midisDataOP1 = convertMidisList_OP1(midisData)"
   ]
  },
  {
   "cell_type": "code",
   "execution_count": 11,
   "id": "f4f67d24",
   "metadata": {},
   "outputs": [
    {
     "data": {
      "text/plain": [
       "1635"
      ]
     },
     "execution_count": 11,
     "metadata": {},
     "output_type": "execute_result"
    }
   ],
   "source": [
    "len(midisDataOP1)"
   ]
  },
  {
   "cell_type": "markdown",
   "id": "cb2bd0cd",
   "metadata": {},
   "source": [
    "**OPTION 1 SUMMARY:** midisDataOP1 is of shape (1635, ?, 5)\n",
    "> **1635 :** total num midis <br>\n",
    "> **? :** number of unique Note vectors per midi file. value not fixed. <br>\n",
    "> **5 :** Note vector (start, end, pitch, velocity, instrument)\n",
    "\n"
   ]
  },
  {
   "cell_type": "markdown",
   "id": "3b6458d9",
   "metadata": {},
   "source": [
    "### STEP 2.2 (OPTION 2): Time-series representation.\n",
    "\n",
    "#### Each midi file is converted into a vector (TIME INSTANCES) X (LIST OF NOTES TO BE PLAYED GIVEN TIME INSTANCE) X (NOTE Vector)\n",
    "\n",
    "**{TIME INSTANCES}** entire time length of a midi file divided into time instances of uniform interval defined by 1/Fs\n",
    "\n",
    "**{LIST OF NOTES TO BE PLAYED GIVEN TIME INSTANCE}** shape varies depending on Fs, midi file, etc. To maintain uniform shape along this dimension, this list is padded with zeros to match the maximum number of notes sampled at any given time across all midis.\n",
    "\n",
    "Each **{NOTE Vector}** contains (pitch, velocity, instrument).  'start' and 'end' attributes are removed from OP1."
   ]
  },
  {
   "cell_type": "code",
   "execution_count": 12,
   "id": "2128b592",
   "metadata": {},
   "outputs": [
    {
     "name": "stdout",
     "output_type": "stream",
     "text": [
      "Num simultaneous notes now at:  6\n",
      "Encountered at input no:  0\n",
      "Num simultaneous notes now at:  11\n",
      "Encountered at input no:  4\n",
      "Num simultaneous notes now at:  27\n",
      "Encountered at input no:  32\n",
      "Num simultaneous notes now at:  33\n",
      "Encountered at input no:  85\n",
      "Num simultaneous notes now at:  36\n",
      "Encountered at input no:  958\n"
     ]
    }
   ],
   "source": [
    "# Define Fs, number of samples per second\n",
    "# convert flattened midis from OP1 to time-series representation\n",
    "\n",
    "Fs = 10\n",
    "\n",
    "midisDataOP2, maxNotesAll = convertFlatMidisList_OP2(midisDataOP1, Fs)"
   ]
  },
  {
   "cell_type": "code",
   "execution_count": 13,
   "id": "500603c9",
   "metadata": {},
   "outputs": [
    {
     "data": {
      "text/plain": [
       "36"
      ]
     },
     "execution_count": 13,
     "metadata": {},
     "output_type": "execute_result"
    }
   ],
   "source": [
    "maxNotesAll"
   ]
  },
  {
   "cell_type": "markdown",
   "id": "713fb89c",
   "metadata": {},
   "source": [
    "**OPTION 2 SUMMARY:** midisDataOP2 is of shape (1635, ?, 36, 3)\n",
    "> **1635 :** total num midis <br>\n",
    "> **? :** evenly spaced time instances per midi. The length varies depending on Fs and the time length of the midi file  <br>\n",
    "> **36 :** notes simultaneously played per time instance <br>\n",
    "> **3 :** Note vector (pitch, velocity, instrument)"
   ]
  },
  {
   "cell_type": "markdown",
   "id": "4eddf556",
   "metadata": {},
   "source": [
    "### STEP 2.3 (OPTION 3): Audio Conversion (SARAH's)"
   ]
  },
  {
   "cell_type": "markdown",
   "id": "e0cae656",
   "metadata": {},
   "source": [
    "### FOR LATER STEP XX SPLIT transformed data into TRAIN, VAL, TEST for Training"
   ]
  },
  {
   "cell_type": "code",
   "execution_count": 15,
   "id": "e727262e",
   "metadata": {},
   "outputs": [],
   "source": [
    "# split option 1 data for training\n",
    "[X_train_OP1, X_val_OP1, X_test_OP1, \n",
    " y_train, y_val, y_test]= splitTransformed(midisDataOP1, composersDataBin,\n",
    "                                           random_state = RANDOM_STATE,\n",
    "                                           train_size = TRAIN_SIZE,\n",
    "                                           val_test_split = VAL_TEST_SPLIT)\n",
    "\n",
    "# split option 2 data for training\n",
    "[X_train_OP2, X_val_OP2, X_test_OP2, \n",
    " y_train2, y_val2, y_test2]= splitTransformed(midisDataOP2, composersDataBin,\n",
    "                                           random_state = RANDOM_STATE,\n",
    "                                           train_size = TRAIN_SIZE,\n",
    "                                           val_test_split = VAL_TEST_SPLIT)\n",
    "\n",
    "# y's should be equal"
   ]
  },
  {
   "cell_type": "code",
   "execution_count": null,
   "id": "d856f18b",
   "metadata": {},
   "outputs": [],
   "source": []
  }
 ],
 "metadata": {
  "kernelspec": {
   "display_name": "Python 3 (ipykernel)",
   "language": "python",
   "name": "python3"
  },
  "language_info": {
   "codemirror_mode": {
    "name": "ipython",
    "version": 3
   },
   "file_extension": ".py",
   "mimetype": "text/x-python",
   "name": "python",
   "nbconvert_exporter": "python",
   "pygments_lexer": "ipython3",
   "version": "3.11.5"
  }
 },
 "nbformat": 4,
 "nbformat_minor": 5
}
